{
 "cells": [
  {
   "cell_type": "code",
   "execution_count": null,
   "metadata": {},
   "outputs": [],
   "source": [
    "#refrences:\n",
    "#model\n",
    "#https://n8henrie.com/2021/08/writing-a-transformer-classifier-in-pytorch/\n",
    "#for datapreprocessing\n",
    "#1.http://www.cse.chalmers.se/~richajo/nlp2019/l6/Sequence%20tagging%20example.html?fbclid=IwAR1PNs98PC6OQz4CpAqJq9WK501BBv8plbtx_SXiXK9zaRkhq1Xo0qNQ0KI\n",
    "#to change the model for transformer\n",
    "#https://github.com/bentrevett/pytorch-pos-tagging/blob/master/1_bilstm.ipynb\n",
    "#parametr tuning\n",
    "#https://ieeexplore.ieee.org/document/9396231"
   ]
  },
  {
   "cell_type": "code",
   "execution_count": null,
   "metadata": {
    "id": "MoXMx9hJVqt8"
   },
   "outputs": [],
   "source": [
    "import pandas as pd\n",
    "import numpy as np"
   ]
  },
  {
   "cell_type": "code",
   "execution_count": null,
   "metadata": {
    "colab": {
     "base_uri": "https://localhost:8080/"
    },
    "id": "YRqav1mphlQs",
    "outputId": "74290fd8-3acc-41c9-a993-9d160e634808"
   },
   "outputs": [
    {
     "name": "stderr",
     "output_type": "stream",
     "text": [
      "[nltk_data] Downloading package brown to /root/nltk_data...\n",
      "[nltk_data]   Package brown is already up-to-date!\n"
     ]
    }
   ],
   "source": [
    "import numpy as np\n",
    "import pandas as pd\n",
    "from io import StringIO\n",
    "import nltk\n",
    "\n",
    "from nltk.corpus import brown\n",
    "from nltk.tag.perceptron import PerceptronTagger\n",
    "from nltk.tokenize import word_tokenize\n",
    "from nltk.classify import accuracy\n",
    "from nltk.corpus import brown\n",
    "from nltk.corpus import stopwords\n",
    "\n",
    "nltk.download('brown')\n",
    "\n",
    "from gensim.models import Word2Vec\n",
    "from sklearn.manifold import TSNE\n",
    "\n",
    "\n",
    "from sklearn.metrics import accuracy_score\n",
    "from sklearn.model_selection import KFold, cross_val_score, train_test_split\n",
    "from sklearn.preprocessing import LabelEncoder\n",
    "from sklearn.linear_model import LogisticRegression\n",
    "from sklearn.feature_extraction import DictVectorizer\n",
    "\n",
    "import matplotlib.pyplot as plt"
   ]
  },
  {
   "cell_type": "code",
   "execution_count": null,
   "metadata": {
    "colab": {
     "base_uri": "https://localhost:8080/",
     "height": 468
    },
    "id": "obje-CORhqxx",
    "outputId": "ecfc85a3-ab07-4d00-ef4c-5f06067f4a87"
   },
   "outputs": [
    {
     "name": "stdout",
     "output_type": "stream",
     "text": [
      "Looking in indexes: https://pypi.org/simple, https://us-python.pkg.dev/colab-wheels/public/simple/\n",
      "Requirement already satisfied: torchtext==0.10.0 in /usr/local/lib/python3.8/dist-packages (0.10.0)\n",
      "Requirement already satisfied: requests in /usr/local/lib/python3.8/dist-packages (from torchtext==0.10.0) (2.23.0)\n",
      "Requirement already satisfied: tqdm in /usr/local/lib/python3.8/dist-packages (from torchtext==0.10.0) (4.64.1)\n",
      "Collecting torch==1.9.0\n",
      "  Using cached torch-1.9.0-cp38-cp38-manylinux1_x86_64.whl (831.4 MB)\n",
      "Requirement already satisfied: numpy in /usr/local/lib/python3.8/dist-packages (from torchtext==0.10.0) (1.21.6)\n",
      "Requirement already satisfied: typing-extensions in /usr/local/lib/python3.8/dist-packages (from torch==1.9.0->torchtext==0.10.0) (4.1.1)\n",
      "Requirement already satisfied: chardet<4,>=3.0.2 in /usr/local/lib/python3.8/dist-packages (from requests->torchtext==0.10.0) (3.0.4)\n",
      "Requirement already satisfied: idna<3,>=2.5 in /usr/local/lib/python3.8/dist-packages (from requests->torchtext==0.10.0) (2.10)\n",
      "Requirement already satisfied: urllib3!=1.25.0,!=1.25.1,<1.26,>=1.21.1 in /usr/local/lib/python3.8/dist-packages (from requests->torchtext==0.10.0) (1.24.3)\n",
      "Requirement already satisfied: certifi>=2017.4.17 in /usr/local/lib/python3.8/dist-packages (from requests->torchtext==0.10.0) (2022.9.24)\n",
      "Installing collected packages: torch\n",
      "  Attempting uninstall: torch\n",
      "    Found existing installation: torch 1.7.1\n",
      "    Uninstalling torch-1.7.1:\n",
      "      Successfully uninstalled torch-1.7.1\n",
      "\u001b[31mERROR: pip's dependency resolver does not currently take into account all the packages that are installed. This behaviour is the source of the following dependency conflicts.\n",
      "torchvision 0.13.1+cu113 requires torch==1.12.1, but you have torch 1.9.0 which is incompatible.\n",
      "torchaudio 0.12.1+cu113 requires torch==1.12.1, but you have torch 1.9.0 which is incompatible.\u001b[0m\n",
      "Successfully installed torch-1.9.0\n"
     ]
    },
    {
     "data": {
      "application/vnd.colab-display-data+json": {
       "pip_warning": {
        "packages": [
         "torch"
        ]
       }
      }
     },
     "metadata": {},
     "output_type": "display_data"
    }
   ],
   "source": [
    "!pip install torchtext==0.10.0"
   ]
  },
  {
   "cell_type": "code",
   "execution_count": null,
   "metadata": {
    "id": "eAOLifmrhyE-"
   },
   "outputs": [],
   "source": [
    "import math\n",
    "\n",
    "import torch\n",
    "import torch.nn as nn\n",
    "\n",
    "import torchtext\n",
    "from torchtext.legacy import data\n",
    "\n",
    "device = torch.device(\"cuda\" if torch.cuda.is_available() else \"cpu\")"
   ]
  },
  {
   "cell_type": "code",
   "execution_count": null,
   "metadata": {
    "colab": {
     "base_uri": "https://localhost:8080/",
     "height": 363
    },
    "id": "BOdUEbPriLBd",
    "outputId": "5fe31b19-c05e-4d8a-c26f-5e64c9126d50"
   },
   "outputs": [
    {
     "name": "stdout",
     "output_type": "stream",
     "text": [
      "Looking in indexes: https://pypi.org/simple, https://us-python.pkg.dev/colab-wheels/public/simple/\n",
      "Collecting torch==1.7.1\n",
      "  Using cached torch-1.7.1-cp38-cp38-manylinux1_x86_64.whl (776.8 MB)\n",
      "Requirement already satisfied: numpy in /usr/local/lib/python3.8/dist-packages (from torch==1.7.1) (1.21.6)\n",
      "Requirement already satisfied: typing-extensions in /usr/local/lib/python3.8/dist-packages (from torch==1.7.1) (4.1.1)\n",
      "Installing collected packages: torch\n",
      "  Attempting uninstall: torch\n",
      "    Found existing installation: torch 1.9.0\n",
      "    Uninstalling torch-1.9.0:\n",
      "      Successfully uninstalled torch-1.9.0\n",
      "\u001b[31mERROR: pip's dependency resolver does not currently take into account all the packages that are installed. This behaviour is the source of the following dependency conflicts.\n",
      "torchvision 0.13.1+cu113 requires torch==1.12.1, but you have torch 1.7.1 which is incompatible.\n",
      "torchtext 0.10.0 requires torch==1.9.0, but you have torch 1.7.1 which is incompatible.\n",
      "torchaudio 0.12.1+cu113 requires torch==1.12.1, but you have torch 1.7.1 which is incompatible.\u001b[0m\n",
      "Successfully installed torch-1.7.1\n"
     ]
    },
    {
     "data": {
      "application/vnd.colab-display-data+json": {
       "pip_warning": {
        "packages": [
         "torch"
        ]
       }
      }
     },
     "metadata": {},
     "output_type": "display_data"
    }
   ],
   "source": [
    "!pip install torch==1.7.1"
   ]
  },
  {
   "cell_type": "code",
   "execution_count": null,
   "metadata": {
    "colab": {
     "base_uri": "https://localhost:8080/"
    },
    "id": "4TuRLDash2KE",
    "outputId": "64285ca1-d1bf-41eb-c2c8-9d7ff2868e22"
   },
   "outputs": [
    {
     "name": "stderr",
     "output_type": "stream",
     "text": [
      "[nltk_data] Downloading package brown to /root/nltk_data...\n",
      "[nltk_data]   Package brown is already up-to-date!\n",
      "[nltk_data] Downloading package universal_tagset to /root/nltk_data...\n",
      "[nltk_data]   Package universal_tagset is already up-to-date!\n"
     ]
    },
    {
     "data": {
      "text/plain": [
       "True"
      ]
     },
     "execution_count": 3,
     "metadata": {},
     "output_type": "execute_result"
    }
   ],
   "source": [
    "import nltk\n",
    "nltk.download('brown')\n",
    "nltk.download('universal_tagset')"
   ]
  },
  {
   "cell_type": "code",
   "execution_count": null,
   "metadata": {
    "id": "R5c4tCavheqv"
   },
   "outputs": [],
   "source": [
    "import torch\n",
    "from torch import nn\n",
    "import time\n",
    "#import torchtext\n",
    "import numpy as np\n",
    "\n",
    "import random\n",
    "\n",
    "from collections import defaultdict, Counter\n",
    "\n",
    "import matplotlib.pyplot as plt\n",
    "\n",
    "%config InlineBackend.figure_format = 'retina' \n",
    "plt.style.use('seaborn')"
   ]
  },
  {
   "cell_type": "code",
   "execution_count": null,
   "metadata": {
    "id": "RBTpzDPtiHZ3"
   },
   "outputs": [],
   "source": [
    "import torch\n",
    "from torch import nn\n",
    "import time\n",
    "import torchtext\n",
    "import numpy as np\n",
    "\n",
    "import random\n",
    "\n",
    "from collections import defaultdict, Counter\n",
    "\n",
    "import matplotlib.pyplot as plt\n",
    "\n",
    "%config InlineBackend.figure_format = 'retina' \n",
    "plt.style.use('seaborn')"
   ]
  },
  {
   "cell_type": "code",
   "execution_count": null,
   "metadata": {
    "colab": {
     "base_uri": "https://localhost:8080/"
    },
    "id": "vZLsc2qXmGvR",
    "outputId": "7e8cb051-2853-49c4-d4b4-092c8aab17a9"
   },
   "outputs": [
    {
     "name": "stdout",
     "output_type": "stream",
     "text": [
      "Looking in indexes: https://pypi.org/simple, https://us-python.pkg.dev/colab-wheels/public/simple/\n",
      "Requirement already satisfied: torch==1.7.1 in /usr/local/lib/python3.7/dist-packages (1.7.1)\n",
      "Requirement already satisfied: typing-extensions in /usr/local/lib/python3.7/dist-packages (from torch==1.7.1) (4.1.1)\n",
      "Requirement already satisfied: numpy in /usr/local/lib/python3.7/dist-packages (from torch==1.7.1) (1.21.6)\n"
     ]
    }
   ],
   "source": [
    "# !pip install torch==1.7.1"
   ]
  },
  {
   "cell_type": "code",
   "execution_count": null,
   "metadata": {
    "id": "g25_Xc4diQmD"
   },
   "outputs": [],
   "source": [
    "#added our project code\n",
    "import pandas as pd\n",
    "import numpy as np"
   ]
  },
  {
   "cell_type": "markdown",
   "metadata": {
    "id": "lMLDvOJQVqt-"
   },
   "source": [
    "Files in the folder"
   ]
  },
  {
   "cell_type": "code",
   "execution_count": null,
   "metadata": {
    "colab": {
     "base_uri": "https://localhost:8080/"
    },
    "id": "_WJqVZzwVqt_",
    "outputId": "346e9f8f-e571-4a4a-e94d-dad11e7a3dfb"
   },
   "outputs": [
    {
     "name": "stdout",
     "output_type": "stream",
     "text": [
      "drive  sample_data\n"
     ]
    }
   ],
   "source": [
    "!ls"
   ]
  },
  {
   "cell_type": "code",
   "execution_count": null,
   "metadata": {
    "colab": {
     "base_uri": "https://localhost:8080/"
    },
    "id": "IICDh1AzVquA",
    "outputId": "b1bc9e83-0fcd-4b75-d218-bbddae105f59"
   },
   "outputs": [
    {
     "name": "stdout",
     "output_type": "stream",
     "text": [
      "Python version:  3.8.15 (default, Oct 12 2022, 19:14:39) \n",
      "[GCC 7.5.0]\n"
     ]
    }
   ],
   "source": [
    "import sys\n",
    "print(\"Python version: \", sys.version)"
   ]
  },
  {
   "cell_type": "code",
   "execution_count": null,
   "metadata": {
    "colab": {
     "base_uri": "https://localhost:8080/"
    },
    "id": "l-Q8-136lUFu",
    "outputId": "20603b80-129a-40aa-c097-15dbfb34af0e"
   },
   "outputs": [
    {
     "name": "stdout",
     "output_type": "stream",
     "text": [
      "Mounted at /content/drive\n"
     ]
    }
   ],
   "source": [
    "from google.colab import drive\n",
    "drive.mount('/content/drive')"
   ]
  },
  {
   "cell_type": "code",
   "execution_count": null,
   "metadata": {
    "id": "lAb1AlHAlbAk"
   },
   "outputs": [],
   "source": [
    "path=\"/content/drive/My Drive/Products.txt\""
   ]
  },
  {
   "cell_type": "code",
   "execution_count": null,
   "metadata": {
    "colab": {
     "base_uri": "https://localhost:8080/"
    },
    "id": "zcpGkSmiVquB",
    "outputId": "43521ad3-3a14-44a5-d2b0-521ee9b36534"
   },
   "outputs": [
    {
     "name": "stdout",
     "output_type": "stream",
     "text": [
      "total lines in the file:  44873\n",
      "Sample of drug names:  ['darvocet a500', 'trianex', 'potassium aminosalicylate', 'mavenclad', 'trizivir', 'scabene', 'tiglutik kit', 'measurin', 'venlafaxine besylate', 'floropryl']\n",
      "number of drugs:  5583\n"
     ]
    }
   ],
   "source": [
    "lst = set()\n",
    "formulation_set = set()\n",
    "avoided_formulation = [\"inject\", \"im-iv\", \"intravenous\", \"intra-articular\", \"intramuscular\"]\n",
    "\n",
    "def isAcceptedDrugFormulation (formulation):\n",
    "    for avoided_form in avoided_formulation:\n",
    "        if formulation.find(avoided_form) >= 0:\n",
    "            return False\n",
    "    return True\n",
    "\n",
    "with open (path, \"r\") as f:\n",
    "    f.readline()\n",
    "    c = 0\n",
    "    for line in f:\n",
    "        line_lst = line.split(\"\\t\")\n",
    "        formulation = line_lst[2].lower()\n",
    "        drugname = line_lst[5].lower()\n",
    "        if isAcceptedDrugFormulation(formulation):\n",
    "            lst.add(drugname)\n",
    "            formulation_set.add(formulation)\n",
    "        c += 1\n",
    "lst = list(lst)\n",
    "print(\"total lines in the file: \", c)\n",
    "print(\"Sample of drug names: \", list(lst)[:10])\n",
    "print(\"number of drugs: \", len(lst))"
   ]
  },
  {
   "cell_type": "markdown",
   "metadata": {
    "id": "Ev5F2pXpVquC"
   },
   "source": [
    "Generate numpy array of drugs"
   ]
  },
  {
   "cell_type": "markdown",
   "metadata": {
    "id": "n5CpRfVCVquC"
   },
   "source": [
    "Provide list of drug names in numpy in case my teammate needs. "
   ]
  },
  {
   "cell_type": "code",
   "execution_count": null,
   "metadata": {
    "colab": {
     "base_uri": "https://localhost:8080/"
    },
    "id": "SDWyM-f1VquC",
    "outputId": "21106702-9e99-4d32-bd06-a4a63f5c06fc"
   },
   "outputs": [
    {
     "data": {
      "text/plain": [
       "(5583,)"
      ]
     },
     "execution_count": 12,
     "metadata": {},
     "output_type": "execute_result"
    }
   ],
   "source": [
    "drugset_np = np.array(list(lst))\n",
    "drugset_np.shape"
   ]
  },
  {
   "cell_type": "code",
   "execution_count": null,
   "metadata": {
    "colab": {
     "base_uri": "https://localhost:8080/"
    },
    "id": "TC6rtQicVquC",
    "outputId": "0a482714-068e-41f2-df02-28f8bc6cacde"
   },
   "outputs": [
    {
     "name": "stdout",
     "output_type": "stream",
     "text": [
      "5583\n"
     ]
    }
   ],
   "source": [
    "print(len(lst))"
   ]
  },
  {
   "cell_type": "code",
   "execution_count": null,
   "metadata": {
    "colab": {
     "base_uri": "https://localhost:8080/"
    },
    "id": "M_FHNnGuVquC",
    "outputId": "6798dabe-9c64-4f1f-9575-389d3c6aa210"
   },
   "outputs": [
    {
     "name": "stdout",
     "output_type": "stream",
     "text": [
      "['darvocet a500', 'trianex', 'potassium aminosalicylate', 'mavenclad', 'trizivir', 'scabene', 'tiglutik kit', 'measurin', 'venlafaxine besylate', 'floropryl']\n",
      "['darvocet', 'trianex', 'potassium', 'mavenclad', 'trizivir', 'scabene', 'tiglutik', 'measurin', 'venlafaxine', 'floropryl']\n",
      "5583\n"
     ]
    }
   ],
   "source": [
    "print(lst[:10])\n",
    "uniword = [w.split()[0] for w in lst]  \n",
    "print(uniword[:10])\n",
    "print(len(uniword))\n"
   ]
  },
  {
   "cell_type": "code",
   "execution_count": null,
   "metadata": {
    "id": "3ZhHKNxhVquD"
   },
   "outputs": [],
   "source": [
    "lst = uniword"
   ]
  },
  {
   "cell_type": "markdown",
   "metadata": {
    "id": "7-R7ZTJdVquD"
   },
   "source": [
    "Feature generation step\n",
    "four types of error\n",
    "1. omission (missing one letter)\n",
    "2. transpose (order of two neighbor letters are incorrect)\n",
    "3. replacement\n",
    "a. vow-to-vow replacement\n",
    "b. consonant-to-consonant replacement\n",
    "4. insertion (insert random letter)\n",
    "\n"
   ]
  },
  {
   "cell_type": "code",
   "execution_count": null,
   "metadata": {
    "id": "sNmm14fDVquD"
   },
   "outputs": [],
   "source": [
    "# omission 1 character\n",
    "\n",
    "def omission(drug, i):\n",
    "    if i == 0:\n",
    "        return drug[i+1:]\n",
    "    elif i == len(drug)-1:\n",
    "        return drug[:i]\n",
    "    else:\n",
    "        return drug[:i] + drug[i+1:]"
   ]
  },
  {
   "cell_type": "code",
   "execution_count": null,
   "metadata": {
    "colab": {
     "base_uri": "https://localhost:8080/"
    },
    "id": "jWqYJzQeVquE",
    "outputId": "4154eed8-46d8-4411-b94b-78fd89019b4a"
   },
   "outputs": [
    {
     "name": "stdout",
     "output_type": "stream",
     "text": [
      "bcdef\n",
      "acdef\n",
      "abdef\n",
      "abcef\n",
      "abcdf\n",
      "abcde\n"
     ]
    }
   ],
   "source": [
    "drug = \"abcdef\"\n",
    "for i in range(len(drug)):\n",
    "    print(omission (drug, i))"
   ]
  },
  {
   "cell_type": "code",
   "execution_count": null,
   "metadata": {
    "id": "DZ0kCALoVquE"
   },
   "outputs": [],
   "source": [
    "def transpose(drug, i):\n",
    "    if i >= len(drug)-1-1:\n",
    "        i = len(drug)-2\n",
    "        return drug[:i] + drug[i+1] +drug[i]\n",
    "    else:\n",
    "        return drug[:i] + drug[i+1] +drug[i] + drug[i+2:]\n",
    "        \n"
   ]
  },
  {
   "cell_type": "code",
   "execution_count": null,
   "metadata": {
    "colab": {
     "base_uri": "https://localhost:8080/"
    },
    "id": "DpzYLSLWVquE",
    "outputId": "1cac11db-2341-4bf3-dcd7-8bfc02395c3c",
    "scrolled": true
   },
   "outputs": [
    {
     "name": "stdout",
     "output_type": "stream",
     "text": [
      "0\n",
      "bacdef\n",
      "1\n",
      "acbdef\n",
      "2\n",
      "abdcef\n",
      "3\n",
      "abcedf\n",
      "4\n",
      "abcdfe\n",
      "5\n",
      "abcdfe\n"
     ]
    }
   ],
   "source": [
    "drug = \"abcdef\"\n",
    "for i in range(len(drug)):\n",
    "    print(i)\n",
    "    print(transpose(drug, i))"
   ]
  },
  {
   "cell_type": "code",
   "execution_count": null,
   "metadata": {
    "colab": {
     "base_uri": "https://localhost:8080/"
    },
    "id": "RBlIn-TgVquF",
    "outputId": "0bc94023-b41a-4949-f49e-62c40575b7af"
   },
   "outputs": [
    {
     "name": "stdout",
     "output_type": "stream",
     "text": [
      "['a', 'e', 'i', 'o', 'u']\n",
      "['b', 'c', 'd', 'f', 'g', 'h', 'j', 'k', 'l', 'm', 'n', 'p', 'q', 'r', 's', 't', 'v', 'w', 'x', 'y', 'z']\n",
      "['a', 'e', 'i', 'o', 'u', 'b', 'c', 'd', 'f', 'g', 'h', 'j', 'k', 'l', 'm', 'n', 'p', 'q', 'r', 's', 't', 'v', 'w', 'x', 'y', 'z']\n"
     ]
    }
   ],
   "source": [
    "import random\n",
    "VOWELS = list(\"aeiou\")\n",
    "CONSONANTS = list(\"bcdfghjklmnpqrstvwxyz\")\n",
    "ALL_LETTERS = VOWELS + CONSONANTS\n",
    "\n",
    "print(VOWELS)\n",
    "print(CONSONANTS)\n",
    "print(ALL_LETTERS)\n",
    "def replace(drug, i):\n",
    "    c = drug[i].lower()\n",
    "    if c in VOWELS:\n",
    "        r = random.choice(VOWELS)\n",
    "    elif c in CONSONANTS:\n",
    "        r = random.choice(CONSONANTS)\n",
    "    else:\n",
    "        r = random.choice(ALL_LETTERS)\n",
    "    ans = drug[:i] + r + drug[i+1:]\n",
    "    if ans == drug:\n",
    "        replace(drug, i)\n",
    "    return ans"
   ]
  },
  {
   "cell_type": "code",
   "execution_count": null,
   "metadata": {
    "colab": {
     "base_uri": "https://localhost:8080/"
    },
    "id": "AegwVrWdVquF",
    "outputId": "6361fdbf-d36c-46c0-e489-bde90318f908"
   },
   "outputs": [
    {
     "name": "stdout",
     "output_type": "stream",
     "text": [
      "0\n",
      "ibc__def\n",
      "1\n",
      "asc__def\n",
      "2\n",
      "abm__def\n",
      "3\n",
      "abco_def\n",
      "4\n",
      "abc_edef\n",
      "5\n",
      "abc__mef\n",
      "6\n",
      "abc__dif\n",
      "7\n",
      "abc__deq\n"
     ]
    }
   ],
   "source": [
    "drug = \"abc__def\"\n",
    "for i in range(len(drug)):\n",
    "    print(i)\n",
    "    print(replace(drug, i))"
   ]
  },
  {
   "cell_type": "code",
   "execution_count": null,
   "metadata": {
    "colab": {
     "base_uri": "https://localhost:8080/"
    },
    "id": "d6PCovg0VquF",
    "outputId": "bd1bb9e2-88de-447c-9599-a3cf60e8fc38"
   },
   "outputs": [
    {
     "name": "stdout",
     "output_type": "stream",
     "text": [
      "['a', 'e', 'i', 'o', 'u', 'b', 'c', 'd', 'f', 'g', 'h', 'j', 'k', 'l', 'm', 'n', 'p', 'q', 'r', 's', 't', 'v', 'w', 'x', 'y', 'z']\n"
     ]
    }
   ],
   "source": [
    "import random\n",
    "ALL_LETTERS = VOWELS + CONSONANTS\n",
    "\n",
    "print(ALL_LETTERS)\n",
    "\n",
    "def insertion(drug, i):\n",
    "    r = random.choice(ALL_LETTERS)\n",
    "    return drug[:i] + r + drug[i:]"
   ]
  },
  {
   "cell_type": "code",
   "execution_count": null,
   "metadata": {
    "colab": {
     "base_uri": "https://localhost:8080/"
    },
    "id": "-yQIAB43VquF",
    "outputId": "876d8f0b-c9b9-4133-9232-3da8c2659681"
   },
   "outputs": [
    {
     "name": "stdout",
     "output_type": "stream",
     "text": [
      "fabcdef\n",
      "apbcdef\n",
      "abscdef\n",
      "abctdef\n",
      "abcdaef\n",
      "abcdenf\n",
      "abcdefd\n"
     ]
    }
   ],
   "source": [
    "drug = \"abcdef\"\n",
    "for i in range(len(drug)+1):\n",
    "    print(insertion(drug, i))"
   ]
  },
  {
   "cell_type": "code",
   "execution_count": null,
   "metadata": {
    "id": "PruWCGJ5VquG"
   },
   "outputs": [],
   "source": [
    "def genUnsprvFeatPair(drug):\n",
    "    temp = [omission(drug, i) for i in range(len(drug))]\n",
    "    temp += [transpose(drug, i) for i in range(len(drug)-1)]\n",
    "    temp += [replace(drug, i) for i in range(len(drug))]\n",
    "    temp += [insertion(drug, i) for i in range(len(drug))]\n",
    "    return [(x, drug) for x in temp]\n",
    "    "
   ]
  },
  {
   "cell_type": "code",
   "execution_count": null,
   "metadata": {
    "colab": {
     "base_uri": "https://localhost:8080/"
    },
    "id": "eE01wafYVquG",
    "outputId": "1a401a49-4769-4a98-91a4-a304b1145a30"
   },
   "outputs": [
    {
     "name": "stdout",
     "output_type": "stream",
     "text": [
      "[('rug name', 'drug name'), ('dug name', 'drug name'), ('drg name', 'drug name'), ('dru name', 'drug name'), ('drugname', 'drug name'), ('drug ame', 'drug name'), ('drug nme', 'drug name'), ('drug nae', 'drug name'), ('drug nam', 'drug name'), ('rdug name', 'drug name'), ('durg name', 'drug name'), ('drgu name', 'drug name'), ('dru gname', 'drug name'), ('drugn ame', 'drug name'), ('drug anme', 'drug name'), ('drug nmae', 'drug name'), ('drug naem', 'drug name'), ('crug name', 'drug name'), ('dvug name', 'drug name'), ('dreg name', 'drug name'), ('druy name', 'drug name'), ('druguname', 'drug name'), ('drug tame', 'drug name'), ('drug nome', 'drug name'), ('drug nawe', 'drug name'), ('drug namo', 'drug name'), ('xdrug name', 'drug name'), ('darug name', 'drug name'), ('drwug name', 'drug name'), ('druig name', 'drug name'), ('drugh name', 'drug name'), ('drug iname', 'drug name'), ('drug ngame', 'drug name'), ('drug naqme', 'drug name'), ('drug namie', 'drug name')]\n"
     ]
    }
   ],
   "source": [
    "drug = \"drug name\"\n",
    "print(genUnsprvFeatPair(drug))"
   ]
  },
  {
   "cell_type": "markdown",
   "metadata": {
    "id": "m464tp6RVquG"
   },
   "source": [
    "reference: dictionary spreader: https://sparrow.dev/object-spread-operator-python/"
   ]
  },
  {
   "cell_type": "code",
   "execution_count": null,
   "metadata": {
    "id": "eknzZPpVVquG"
   },
   "outputs": [],
   "source": [
    "# this feature can be used for NLTK ML models (naive bayes, sklearn models)\n",
    "def genSprvFeatPair(drug):\n",
    "    temp = {f\"omission_{i}\":omission(drug, i) for i in range(len(drug))}\n",
    "    temp2 = {f\"transpose_{i}\": transpose(drug, i) for i in range(len(drug)-1)}\n",
    "    temp3 = {f\"replace_{i}\": replace(drug, i) for i in range(len(drug))}\n",
    "    temp4 = {f\"insertion_{i}\":insertion(drug, i) for i in range(len(drug))}\n",
    "    return [{**temp, **temp2, **temp3, **temp4}, drug]\n"
   ]
  },
  {
   "cell_type": "code",
   "execution_count": null,
   "metadata": {
    "colab": {
     "base_uri": "https://localhost:8080/"
    },
    "id": "ERZrJJ30VquG",
    "outputId": "12e66dfd-e54e-4f09-c8f9-d7769853aec2",
    "scrolled": true
   },
   "outputs": [
    {
     "name": "stdout",
     "output_type": "stream",
     "text": [
      "[{'omission_0': 'rug', 'omission_1': 'dug', 'omission_2': 'drg', 'omission_3': 'dru', 'transpose_0': 'rdug', 'transpose_1': 'durg', 'transpose_2': 'drgu', 'replace_0': 'wrug', 'replace_1': 'dyug', 'replace_2': 'dreg', 'replace_3': 'drug', 'insertion_0': 'xdrug', 'insertion_1': 'dkrug', 'insertion_2': 'drbug', 'insertion_3': 'drurg'}, 'drug']\n"
     ]
    }
   ],
   "source": [
    "#test\n",
    "drug = \"drug\"\n",
    "print(genSprvFeatPair(drug))"
   ]
  },
  {
   "cell_type": "markdown",
   "metadata": {
    "id": "txytS3GNVquG"
   },
   "source": [
    "Total number of drug names"
   ]
  },
  {
   "cell_type": "code",
   "execution_count": null,
   "metadata": {
    "colab": {
     "base_uri": "https://localhost:8080/"
    },
    "id": "GnbHu8_UVquG",
    "outputId": "1f74ec95-8f06-4988-b7d8-41781d0d2a6a"
   },
   "outputs": [
    {
     "data": {
      "text/plain": [
       "5583"
      ]
     },
     "execution_count": 28,
     "metadata": {},
     "output_type": "execute_result"
    }
   ],
   "source": [
    "len(lst)"
   ]
  },
  {
   "cell_type": "code",
   "execution_count": null,
   "metadata": {
    "colab": {
     "base_uri": "https://localhost:8080/"
    },
    "id": "eszCb74pVquH",
    "outputId": "522da2f6-ccbf-4007-883e-f0085427e9eb",
    "scrolled": true
   },
   "outputs": [
    {
     "name": "stdout",
     "output_type": "stream",
     "text": [
      "[('arvocet', 'darvocet'), ('drvocet', 'darvocet'), ('davocet', 'darvocet'), ('darocet', 'darvocet'), ('darvcet', 'darvocet'), ('darvoet', 'darvocet'), ('darvoct', 'darvocet'), ('darvoce', 'darvocet'), ('adrvocet', 'darvocet'), ('dravocet', 'darvocet'), ('davrocet', 'darvocet'), ('darovcet', 'darvocet'), ('darvcoet', 'darvocet'), ('darvoect', 'darvocet'), ('darvocte', 'darvocet'), ('darvocet', 'darvocet'), ('dervocet', 'darvocet'), ('dajvocet', 'darvocet'), ('darrocet', 'darvocet'), ('darvocet', 'darvocet'), ('darvoyet', 'darvocet'), ('darvocit', 'darvocet'), ('darvocet', 'darvocet'), ('mdarvocet', 'darvocet'), ('diarvocet', 'darvocet'), ('davrvocet', 'darvocet'), ('darovocet', 'darvocet'), ('darvmocet', 'darvocet'), ('darvoucet', 'darvocet'), ('darvocnet', 'darvocet'), ('darvoceat', 'darvocet'), ('rianex', 'trianex'), ('tianex', 'trianex'), ('tranex', 'trianex'), ('trinex', 'trianex'), ('triaex', 'trianex'), ('trianx', 'trianex'), ('triane', 'trianex'), ('rtianex', 'trianex'), ('tiranex', 'trianex'), ('trainex', 'trianex'), ('trinaex', 'trianex'), ('triaenx', 'trianex'), ('trianxe', 'trianex'), ('frianex', 'trianex'), ('thianex', 'trianex'), ('trianex', 'trianex'), ('trionex', 'trianex'), ('trianex', 'trianex'), ('trianax', 'trianex'), ('trianej', 'trianex'), ('otrianex', 'trianex'), ('tkrianex', 'trianex'), ('trtianex', 'trianex'), ('trioanex', 'trianex'), ('triawnex', 'trianex'), ('trianhex', 'trianex'), ('trianeux', 'trianex'), ('otassium', 'potassium'), ('ptassium', 'potassium'), ('poassium', 'potassium'), ('potssium', 'potassium'), ('potasium', 'potassium'), ('potasium', 'potassium'), ('potassum', 'potassium'), ('potassim', 'potassium'), ('potassiu', 'potassium'), ('optassium', 'potassium'), ('ptoassium', 'potassium'), ('poatssium', 'potassium'), ('potsasium', 'potassium'), ('potassium', 'potassium'), ('potasisum', 'potassium'), ('potassuim', 'potassium'), ('potassimu', 'potassium'), ('wotassium', 'potassium'), ('putassium', 'potassium'), ('potassium', 'potassium'), ('potossium', 'potassium'), ('potaqsium', 'potassium'), ('potasgium', 'potassium'), ('potasseum', 'potassium'), ('potassiim', 'potassium'), ('potassium', 'potassium'), ('apotassium', 'potassium'), ('ppotassium', 'potassium'), ('poxtassium', 'potassium'), ('potzassium', 'potassium'), ('potaassium', 'potassium'), ('potasusium', 'potassium'), ('potassbium', 'potassium'), ('potassilum', 'potassium'), ('potassiucm', 'potassium'), ('avenclad', 'mavenclad'), ('mvenclad', 'mavenclad'), ('maenclad', 'mavenclad'), ('mavnclad', 'mavenclad'), ('maveclad', 'mavenclad'), ('mavenlad', 'mavenclad'), ('mavencad', 'mavenclad')]\n",
      "182669\n"
     ]
    }
   ],
   "source": [
    "# unsprv_dataset only first 100. convert the whole dataset would cause too much time? \n",
    "Unsprv_dataset = sum([genUnsprvFeatPair(drug) for drug in lst[:]], [])\n",
    "print(Unsprv_dataset[:100])\n",
    "print(len(Unsprv_dataset))"
   ]
  },
  {
   "cell_type": "code",
   "execution_count": null,
   "metadata": {
    "colab": {
     "base_uri": "https://localhost:8080/"
    },
    "id": "FqzbNfTMVquH",
    "outputId": "22a5482d-b869-4ce0-ebbb-58d595893d90"
   },
   "outputs": [
    {
     "name": "stdout",
     "output_type": "stream",
     "text": [
      "[[{'omission_0': 'arvocet', 'omission_1': 'drvocet', 'omission_2': 'davocet', 'omission_3': 'darocet', 'omission_4': 'darvcet', 'omission_5': 'darvoet', 'omission_6': 'darvoct', 'omission_7': 'darvoce', 'transpose_0': 'adrvocet', 'transpose_1': 'dravocet', 'transpose_2': 'davrocet', 'transpose_3': 'darovcet', 'transpose_4': 'darvcoet', 'transpose_5': 'darvoect', 'transpose_6': 'darvocte', 'replace_0': 'narvocet', 'replace_1': 'dervocet', 'replace_2': 'dajvocet', 'replace_3': 'darjocet', 'replace_4': 'darvacet', 'replace_5': 'darvoyet', 'replace_6': 'darvocet', 'replace_7': 'darvoceg', 'insertion_0': 'rdarvocet', 'insertion_1': 'doarvocet', 'insertion_2': 'daqrvocet', 'insertion_3': 'darlvocet', 'insertion_4': 'darvlocet', 'insertion_5': 'darvoycet', 'insertion_6': 'darvociet', 'insertion_7': 'darvocent'}, 'darvocet'], [{'omission_0': 'rianex', 'omission_1': 'tianex', 'omission_2': 'tranex', 'omission_3': 'trinex', 'omission_4': 'triaex', 'omission_5': 'trianx', 'omission_6': 'triane', 'transpose_0': 'rtianex', 'transpose_1': 'tiranex', 'transpose_2': 'trainex', 'transpose_3': 'trinaex', 'transpose_4': 'triaenx', 'transpose_5': 'trianxe', 'replace_0': 'brianex', 'replace_1': 'tsianex', 'replace_2': 'trianex', 'replace_3': 'trionex', 'replace_4': 'triacex', 'replace_5': 'trianox', 'replace_6': 'trianen', 'insertion_0': 'ztrianex', 'insertion_1': 'tarianex', 'insertion_2': 'trdianex', 'insertion_3': 'trijanex', 'insertion_4': 'triaknex', 'insertion_5': 'triangex', 'insertion_6': 'trianehx'}, 'trianex']]\n",
      "5583\n"
     ]
    }
   ],
   "source": [
    "supervised_dataset = [genSprvFeatPair(drug) for drug in lst]\n",
    "print(supervised_dataset[:2])\n",
    "print(len(supervised_dataset))"
   ]
  },
  {
   "cell_type": "markdown",
   "metadata": {
    "id": "JT2xMy9TVquH"
   },
   "source": [
    "# This concludes the data preparation phase."
   ]
  },
  {
   "cell_type": "code",
   "execution_count": null,
   "metadata": {
    "id": "dx_Ul8ms8MO_"
   },
   "outputs": [],
   "source": []
  },
  {
   "cell_type": "code",
   "execution_count": null,
   "metadata": {
    "colab": {
     "base_uri": "https://localhost:8080/"
    },
    "id": "lwpK0W5vVquH",
    "outputId": "3521b128-6aee-45c9-c27c-d5e9ab6a75e4"
   },
   "outputs": [
    {
     "name": "stdout",
     "output_type": "stream",
     "text": [
      "182669\n"
     ]
    }
   ],
   "source": [
    "train_data=[]\n",
    "for sent in Unsprv_dataset:\n",
    "  wrong,correct=sent\n",
    "  train_data.append([[wrong],[correct]])\n",
    "print(len(train_data[::]))\n"
   ]
  },
  {
   "cell_type": "code",
   "execution_count": null,
   "metadata": {
    "id": "9qs04ypKVquH"
   },
   "outputs": [],
   "source": [
    "from torchtext.legacy import data\n",
    "from torchtext.legacy import datasets\n",
    "def read_data(train_data, datafields):\n",
    "    \n",
    "        examples = []\n",
    "        # words = []\n",
    "        # labels = []\n",
    "        for instance in train_data:\n",
    "          words,labels=instance\n",
    "          # print(words,labels)\n",
    "          # break\n",
    "          examples.append(torchtext.legacy.data.Example.fromlist([words, labels], datafields))\n",
    "        #print(examples)\n",
    "        return torchtext.legacy.data.Dataset(examples, datafields)\n",
    "        print(example[:1])"
   ]
  },
  {
   "cell_type": "code",
   "execution_count": null,
   "metadata": {
    "id": "r29mkHtsitVJ"
   },
   "outputs": [],
   "source": [
    "from pickle import TRUE\n",
    "TEXT = torchtext.legacy.data.Field(init_token='<bos>', eos_token='<eos>', sequential=TRUE, lower=True)\n",
    "LABEL = torchtext.legacy.data.Field(init_token='<bos>', eos_token='<eos>', sequential=TRUE)\n",
    "fields = [('text', TEXT), ('label', LABEL)]\n",
    "train_txt=read_data(train_data[:146135],fields)\n",
    "test_txt=read_data(train_data[146135:len(train_data)],fields)"
   ]
  },
  {
   "cell_type": "code",
   "execution_count": null,
   "metadata": {
    "colab": {
     "base_uri": "https://localhost:8080/"
    },
    "id": "SMXajk0Oi7HG",
    "outputId": "16be660b-509a-470a-e4ea-2969cc873663"
   },
   "outputs": [
    {
     "name": "stderr",
     "output_type": "stream",
     "text": [
      ".vector_cache/glove.6B.zip: 862MB [02:40, 5.36MB/s]                           \n",
      "100%|█████████▉| 49999/50000 [00:01<00:00, 41876.09it/s]\n"
     ]
    }
   ],
   "source": [
    "\n",
    "batch_size=6\n",
    "TEXT.build_vocab(\n",
    "    train_txt,\n",
    "    vectors=torchtext.vocab.GloVe(name=\"6B\", dim=50, max_vectors=50_000),\n",
    "    max_size=50000\n",
    ")\n",
    "\n",
    "\n",
    "LABEL.build_vocab(train_txt)\n",
    "train_iter, test_iter = torchtext.legacy.data.BucketIterator.splits(\n",
    "    (train_txt, test_txt),\n",
    "    batch_size=batch_size,\n",
    "    sort_key = lambda x: len(x.text),\n",
    "    sort_within_batch=True,\n",
    ")"
   ]
  },
  {
   "cell_type": "code",
   "execution_count": null,
   "metadata": {
    "id": "22_HG8RAjB0B"
   },
   "outputs": [],
   "source": [
    "class PositionalEncoding(nn.Module):\n",
    "    \"\"\"\n",
    "    https://pytorch.org/tutorials/beginner/transformer_tutorial.html\n",
    "    \"\"\"\n",
    "\n",
    "    def __init__(self, d_model, vocab_size=5000, dropout=0.1):\n",
    "        super().__init__()\n",
    "        self.dropout = nn.Dropout(p=dropout)\n",
    "\n",
    "        pe = torch.zeros(vocab_size, d_model)\n",
    "        position = torch.arange(0, vocab_size, dtype=torch.float).unsqueeze(1)\n",
    "        div_term = torch.exp(\n",
    "            torch.arange(0, d_model, 2).float()\n",
    "            * (-math.log(10000.0) / d_model)\n",
    "        )\n",
    "        pe[:, 0::2] = torch.sin(position * div_term)\n",
    "        pe[:, 1::2] = torch.cos(position * div_term)\n",
    "        pe = pe.unsqueeze(0)\n",
    "        self.register_buffer(\"pe\", pe)\n",
    "\n",
    "    def forward(self, x):\n",
    "        x = x + self.pe[:, : x.size(1), :]\n",
    "        return self.dropout(x)"
   ]
  },
  {
   "cell_type": "code",
   "execution_count": null,
   "metadata": {
    "id": "RWm3InQljM-s"
   },
   "outputs": [],
   "source": [
    "class Net(nn.Module):\n",
    "    \"\"\"\n",
    "    Text classifier based on a pytorch TransformerEncoder.\n",
    "    \"\"\"\n",
    "\n",
    "    def __init__(\n",
    "        self,\n",
    "        embeddings,\n",
    "        nhead=8,\n",
    "        dim_feedforward=2048,\n",
    "        num_layers=6,\n",
    "        dropout=0.1,\n",
    "        activation=\"relu\",\n",
    "        classifier_dropout=0.1,\n",
    "    ):\n",
    "\n",
    "        super().__init__()\n",
    "\n",
    "        vocab_size, d_model = embeddings.size()\n",
    "        assert d_model % nhead == 0, \"nheads must divide evenly into d_model\"\n",
    "\n",
    "        self.emb = nn.Embedding.from_pretrained(embeddings, freeze=False)\n",
    "\n",
    "        self.pos_encoder = PositionalEncoding(\n",
    "            d_model=d_model,\n",
    "            dropout=dropout,\n",
    "            vocab_size=vocab_size,\n",
    "        )\n",
    "\n",
    "        encoder_layer = nn.TransformerEncoderLayer(\n",
    "            d_model=d_model,\n",
    "            nhead=nhead,\n",
    "            dim_feedforward=dim_feedforward,\n",
    "            dropout=dropout,\n",
    "        )\n",
    "        self.transformer_encoder = nn.TransformerEncoder(\n",
    "            encoder_layer,\n",
    "            num_layers=num_layers,\n",
    "        )\n",
    "        self.classifier = nn.Linear(d_model, len(LABEL.vocab))\n",
    "        self.d_model = d_model\n",
    "\n",
    "    def forward(self, x):\n",
    "        x = self.emb(x) * math.sqrt(self.d_model)\n",
    "        x = self.pos_encoder(x)\n",
    "        x = self.transformer_encoder(x)\n",
    "        #x = x.mean(dim=1)\n",
    "        x = self.classifier(x)\n",
    "\n",
    "        return x"
   ]
  },
  {
   "cell_type": "code",
   "execution_count": null,
   "metadata": {
    "colab": {
     "base_uri": "https://localhost:8080/"
    },
    "id": "0RBx9_3FVquH",
    "outputId": "992ebd47-08b4-4e2d-d4c2-939763c66808"
   },
   "outputs": [
    {
     "name": "stdout",
     "output_type": "stream",
     "text": [
      "['<unk>', '<pad>', '<bos>', '<eos>', \"children's\", 'promethazine', 'norethindrone', 'dianeal', 'ortho-novum', 'neomycin', 'hydralazine', 'hydrocodone', 'adderall', 'hydrocortisone', 'amlodipine', 'lamivudine;', 'hydrochlorothiazide', 'sodium', 'erythromycin', 'propoxyphene', 'triprolidine', 'sulfamethoxazole', 'fexofenadine', 'acetaminophen,', 'inpersol-lc/lm', 'monistat', 'clindamycin', 'augmentin', 'ibuprofen', 'oxycodone', 'acetaminophen', 'buprenorphine', 'ciprofloxacin', 'gyne-lotrimin', 'atazanavir', 'chloraprep', 'diclofenac', 'delflex', 'pioglitazone', 'pseudoephedrine', 'estradiol', 'butalbital,', 'lamivudine,', 'microgestin', 'chlorothiazide', 'levonorgestrel', 'spironolactone', 'hydrochlorothiazide;', 'cetirizine', 'dyanavel', 'prevacid', 'calcipotriene', 'dexamethasone', 'rosiglitazone', 'advil', 'hydroflumethiazide', 'carisoprodol', 'fluocinonide', 'polyethylene', 'clonidine', 'lidocaine', 'minoxidil', 'principen', 'flovent', 'norinyl', 'amoxicillin', 'brimonidine', 'candesartan', 'haloperidol', 'isoetharine', 'phentermine', 'propranolol', 'sitagliptin', 'telmisartan', 'lamivudine/nevirapine/zidovudine', 'chlordiazepoxide', 'dextromethorphan', 'methyclothiazide', 'prochlorperazine', 'serpasil-esidrix', 'aerolate', 'aurovela', 'claritin', 'klor-con', 'brompheniramine', 'methylphenidate', 'efavirenz,', 'lamivudine', 'methyldopa', 'miconazole', 'norlestrin', 'omeprazole', 'prevantics', 'stavudine;', 'terramycin', 'wellbutrin', 'bacitracin-neomycin-polymyxin', 'ortho', 'chlorpromazine', 'cholestyramine', 'desvenlafaxine', 'levocetirizine', 'metoclopramide', 'nitrofurantoin', 'anexsia', 'demulen', 'dialyte', 'ethinyl', 'prometh', 'stalevo', 'sterile', 'tylenol', 'varibar', 'veetids', 'vitamin', 'griseofulvin,ultramicrosize', 'albuterol', 'anthelios', 'peg-3350,', 'phenergan', 'pherazine', 'phrenilin', 'pulmicort', 'reserpine', 'chloromycetin', 'dapagliflozin', 'desloratadine', 'diphenoxylate', 'dolutegravir,', 'empagliflozin', 'emtricitabine', 'levocarnitine', 'methocarbamol', 'oxtriphylline', 'phenylephrine', 'sulfacetamide', 'triamcinolone', 'chlorothiazide-reserpine', 'bendamustine', 'clotrimazole', 'desmopressin', 'drospirenone', 'elixophyllin', 'escitalopram', 'esomeprazole', 'flurbiprofen', 'mycophenolic', 'rivastigmine', 'rosuvastatin', 'trandolapril', 'trimethoprim', 'vortioxetine', 'abacavir', 'betoptic', 'bydureon', 'capozide', 'cardizem', 'cyclafem', 'fulvicin', 'lamictal', 'loestrin', 'lotrimin', 'norethin', 'nystatin', 'tolectin', 'ventolin', 'darvon', 'dexone', 'pepcid', 'dapagliflozin;metformin', 'emtricitabine;tenofovir', 'nystatin-triamcinolone', 'biphetamine', 'cystografin', 'dorzolamide', 'doxycycline', 'fenofibrate', 'fluticasone', 'guaifenesin', 'hydroxyzine', 'inpersol-zm', 'linagliptin', 'naphazoline', 'ondansetron', 'orphengesic', 'predsulfair', 'repaglinide', 'sumatriptan', 'thiothixene', 'tofacitinib', 'tri-norinyl', 'triamterene', 'varenicline', 'lamivudine/zidovudine', 'aldoril', 'allegra', 'cleocin', 'flonase', 'gildess', 'imodium', 'menrium', 'micro-k', 'rogaine', 'triavil', 'velosef', 'lamivudine/tenofovir', 'terramycin-polymyxin', 'alogliptin', 'atovaquone', 'azulfidine', 'bacitracin', 'bisoprolol', 'blephamide', 'carvedilol', 'chloroptic', 'claritin-d', 'clobetasol', 'darvocet-n', 'delflex-lm', 'doxylamine', 'efavirenz;', 'fluoxetine', 'fosinopril', 'glucophage', 'imipramine', 'irbesartan', 'isosorbide', 'jentadueto', 'loperamide', 'loratadine', 'metatensin', 'metoprolol', 'neo-medrol', 'nevirapine', 'olmesartan', 'oxybutynin', 'papa-deine', 'paroxetine', 'penicillin', 'primaquine', 'probenecid', 'resectisol', 'tobramycin', 'larin', 'elase-chloromycetin', 'medroxyprogesterone', 'ogen', 'serpasil-apresoline', 'apresoline-esidrix', 'dexbrompheniramine', 'dexmethylphenidate', 'diethylstilbestrol', 'hydroxychloroquine', 'methyltestosterone', 'trichlormethiazide', 'abacavir;', 'acticlate', 'adapalene', 'allegra-d', 'bupropion', 'captopril', 'carbidopa', 'diprolene', 'donepezil', 'efavirenz', 'enalapril', 'estrostep', 'ezetimibe', 'glipizide', 'glucotrol', 'hydropres', 'inflamase', 'invagesic', 'invokamet', 'isentress', 'ketorolac', 'limbitrol', 'locholest', 'lopressor', 'lorazepam', 'magnesium', 'metformin', 'methadone', 'minipress', 'mycelex-7', 'myrbetriq', 'nicorette', 'omnipaque', 'oragrafin', 'pfizerpen', 'phenaphen', 'phenytoin', 'physiosol', 'potassium', 'premphase', 'procardia', 'propulsid', 'quinapril', 'quinidine', 'readi-cat', 'rhinocort', 'sevelamer', 'sulfatrim', 'sulmeprim', 'testoderm', 'theoclear', 'vancenase', 'x-trozine', 'xylocaine', 'zegalogue', 'acetic', 'advair', 'hailey', 'isopto', 'motrin', 'triple', 'zantac', 'zyrtec', 'calcitonin-salmon', 'dihydroergotamine', 'nulytely-flavored', 'sorbitol-mannitol', 'chlorotrianisene', 'chlorpheniramine', 'cyclophosphamide', 'derma-smoothe/fs', 'lisdexamfetamine', 'methylnaltrexone', 'metrogel-vaginal', 'neo-delta-cortef', 'phenoxybenzamine', 'propylthiouracil', 'tri-lo-estarylla', 'trovan/zithromax', 'acetasol', 'actoplus', 'afinitor', 'alphagan', 'armonair', 'atenolol', 'betapace', 'brevicon', 'clarinex', 'codeine,', 'darvon-n', 'depakote', 'dermatop', 'diazepam', 'dimethyl', 'ditropan', 'drixoral', 'dynacirc', 'eskalith', 'fiorinal', 'hydromox', 'ibuprohm', 'inderide', 'klonopin', 'lo/ovral', 'lotensin', 'malarone', 'metadate', 'naloxone', 'naproxen', 'nasacort', 'nicotine', 'norgesic', 'ogestrel', 'oreticyl', 'photrexa', 'prilosec', 'questran', 'razadyne', 'restasis', 'sanctura', 'seroquel', 'sorbitol', 'tekturna', 'temovate', 'timoptic', 'tobradex', 'topicort', 'tramadol', 'trandate', 'tranxene', 'travatan', 'v-cillin', 'vanceril', 'viramune', 'voltaren', 'wyamycin', 'chloramphenicol', 'colyte-flavored', 'cyclobenzaprine', 'dexlansoprazole', 'diphenhydramine', 'doxercalciferol', 'eslicarbazepine', 'fludrocortisone', 'fluoxymesterone', 'flurandrenolide', 'laryngotracheal', 'levomilnacipran', 'low-ogestrel-21', 'low-ogestrel-28', 'methscopolamine', 'neo-hydeltrasol', 'oxsoralen-ultra', 'oxyphenbutazone', 'oxytetracycline', 'salutensin-demi', 'somophyllin-crt', 'theophylline-sr', 'transderm-nitro', 'tranylcypromine', 'trifluoperazine', 'trihexyphenidyl', 'cipro', 'junel', 'zovia', 'acetaminophen;', 'acetylcysteine', 'bacteriostatic', 'catapres-tts-2', 'catapres-tts-3', 'chlor-trimeton', 'chlordiazachel', 'chlorpropamide', 'chlorthalidone', 'clarithromycin', 'col-probenecid', 'cyanocobalamin', 'cyclopentolate', 'cyproheptadine', 'demeclocycline', 'desoximetasone', 'diethylpropion', 'dimenhydrinate', 'doxy-sleep-aid', 'e-z', 'empagliflozin;', 'emtricitabine;', 'epogen/procrit', 'ergocalciferol', 'erythro-statin', 'extra-strength', 'glycopyrrolate', 'inderide-40/25', 'inderide-80/25', 'lo-zumandimine', 'mercaptopurine', 'metaproterenol', 'phenylbutazone', 'polycillin-prb', 'pyridostigmine', 'somophyllin-df', 'sulfinpyrazone', 'tripelennamine', 'valganciclovir', 'actonel', 'adzenys', 'alyacen', 'anaprox', 'android', 'aricept', 'atacand', 'aventyl', 'bactrim', 'blisovi', 'capital', 'cardene', 'climara', 'cordran', 'dasetta', 'diastat', 'effexor', 'florone', 'foradil', 'fosamax', 'hetlioz', 'humulin', 'ibu-tab', 'inderal', 'indocin', 'janumet', 'kenalog', 'lithium', 'mirapex', 'motofen', 'mucinex', 'nadolol', 'nasonex', 'niaspan', 'nizoral', 'norpace', 'nortrel', 'noxafil', 'nucynta', 'orapred', 'oxytrol', 'parasal', 'pataday', 'pentids', 'predair', 'prempro', 'roxicet', 'rythmol', 'sarisol', 'stimate', 'sudafed', 'sulfair', 'tagamet', 'tenuate', 'terazol', 'teveten', 'theobid', 'trimpex', 'xeljanz', 'xopenex', 'zegerid', 'zyprexa', 'acetazolamide', 'acetohexamide', 'alclometasone', 'aminophylline', 'amitriptyline', 'apraclonidine', 'benzphetamine', 'betamethasone', 'brexpiprazole', 'bristacycline', 'bromocriptine', 'cam-metrazine', 'canagliflozin', 'carisoprodol,', 'chlorhexidine', 'chlorzoxazone', 'demi-regroton', 'dicloxacillin', 'dolutegravir;', 'drospirenone,', 'duo-medihaler', 'duragesic-100', 'efinaconazole', 'ethchlorvynol', 'etrafon-forte', 'fernisolone-p', 'fosamprenavir', 'griseofulvin,', 'hydromorphone', 'isoproterenol', 'lansoprazole,', 'levetiracetam', 'levo-dromoran', 'levothyroxine', 'md-gastroview', 'meclofenamate', 'mepro-aspirin', 'metronidazole', 'monistat-derm', 'mycophenolate', 'naturetin-2.5', 'neo-cort-dome', 'nitrofurazone', 'nitroglycerin', 'norgestimate;', 'nortriptyline', 'oxcarbazepine', 'oxymetazoline', 'penicillamine', 'pentobarbital', 'percodan-demi', 'prednicarbate', 'propantheline', 'protriptyline', 'proventil-hfa', 'pyrimethamine', 'retin-a-micro', 'somophyllin-t', 'sulfanilamide', 'sulfapyridine', 'sulfasalazine', 'sulfisoxazole', 'synalgos-dc-a', 'teriflunomide', 'tetrabenazine', 'thyrolar-0.25', 'tri-estarylla', 'tri-lo-linyah', 'trimeth/sulfa', 'ultragris-165', 'ultragris-330', 'aches-n-pain', 'ak-pentolate', 'aldoclor-250', 'aminocaproic', 'aminophyllin', 'arformoterol', 'aripiprazole', 'atorvastatin', 'azathioprine', 'azithromycin', 'benznidazole', 'brinzolamide', 'brivaracetam', 'butabarbital', 'butoconazole', 'capecitabine', 'chloroptic-p', 'clocortolone', 'clomipramine', 'codimal-l.a.', 'cyclosporine', 'cysto-conray', 'desogestrel;', 'dilatrate-sr', 'dipyridamole', 'dolutegravir', 'duragesic-12', 'duragesic-37', 'duragesic-50', 'duragesic-75', 'enzalutamide', 'ethosuximide', 'fentanyl-100', 'fesoterodine', 'fexinidazole', 'fluocinolone', 'fluorouracil', 'fluphenazine', 'frovatriptan', 'fulvicin-u/f', 'gatifloxacin', 'gemifloxacin', 'glutethimide', 'griseofulvin', 'guanethidine', 'hydro-reserp', 'hydrocortone', 'indomethacin', 'isotretinoin', 'ketoconazole', 'lansoprazole', 'lenalidomide', 'levalbuterol', 'liothyronine', 'lo-malmorede', 'lopressidone', 'loseasonique', 'mecamylamine', 'membraneblue', 'methdilazine', 'methotrexate', 'monopril-hct', 'moxifloxacin', 'myco-triacet', 'nitazoxanide', 'nitrolingual', 'norgestimate', 'omega-3-acid', 'optipranolol', 'orphenadrine', 'paricalcitol', 'penicillin-2', 'perchloracap', 'perphenazine', 'phenazine-35', 'phyllocontin', 'phytonadione', 'pimavanserin', 'pimecrolimus', 'pitavastatin', 'pomalidomide', 'posaconazole', 'prednisolone', 'pro-banthine', 'procainamide', 'progestasert', 'progesterone', 'pronestyl-sr', 'proparacaine', 'provocholine', 'sitagliptin;', 'sulfadiazine', 'sulfatrim-ss', 'sulfonamides', 'sumatriptan;', 'telmisartan;', 'temozolomide', 'testosterone', 'theoclear-80', 'theophyl-225', 'theophylline', 'thioridazine', 'thyrolar-0.5', 'tirosint-sol', 'tri-previfem', 'tri-sprintec', 'triaminic-12', 'trimeprazine', 'trimipramine', 'triphasil-21', 'triphasil-28', 'valacyclovir', 'voriconazole', 'acular', 'adalat', 'ceclor', 'colyte', 'cosopt', 'cotrim', 'detrol', 'diovan', 'e.e.s.', 'efidac', 'epaned', 'epiduo', 'ethril', 'evekeo', 'floxin', 'jadenu', 'junior', 'liquid', 'lodine', 'lyrica', 'medrol', 'megace', 'n.e.e.', 'nexium', 'oreton', 'orudis', 'pamine', 'proair', 'procan', 'pytest', 'reglan', 'requip', 'riomet', 'septra', 'tavist', 'toujeo', 'visine', 'zofran', 'soma', 'acamprosate', 'aeroseb-dex', 'akpentolate', 'albendazole', 'aldactazide', 'alendronate', 'almotriptan', 'alogliptin;', 'ambrisentan', 'aminoacetic', 'amnestrogen', 'amphetamine', 'antitussive', 'armodafinil', 'athrombin-k', 'atomoxetine', 'balsalazide', 'benztropine', 'bepotastine', 'bethanechol', 'bimatoprost', 'bristamycin', 'bronkometer', 'butalbital;', 'butazolidin', 'butorphanol', 'cabazitaxel', 'cariprazine', 'chloromyxin', 'chloroquine', 'clopidogrel', 'clorazepate', 'colesevelam', 'concentraid', 'cortisporin', 'cyclacillin', 'cyclomydril', 'cyklokapron', 'dapiprazole', 'darifenacin', 'deoxycholic', 'desipramine', 'desogestrel', 'diatrizoate', 'dibenzyline', 'dicyclomine', 'diflorasone', 'dilantin-30', 'diupres-250', 'diutensen-r', 'doxy-lemmon', 'dronedarone', 'eltrombopag', 'enpresse-21', 'enpresse-28', 'epinephrine', 'estropipate', 'eszopiclone', 'famciclovir', 'famotidine,', 'fentanyl-12', 'fentanyl-25', 'fentanyl-37', 'fentanyl-50', 'fentanyl-62', 'fentanyl-75', 'fentanyl-87', 'finasteride', 'fluconazole', 'flunisolide', 'fluorescein', 'fluvastatin', 'fluvoxamine', 'galantamine', 'ganciclovir', 'gantanol-ds', 'gemfibrozil', 'glimepiride', 'granisetron', 'hydeltrasol', 'hydrodiuril', 'hydroxyurea', 'ibandronate', 'iloperidone', 'indo-lemmon', 'ipratropium', 'irbesartan;', 'lamotrigine', 'latanoprost', 'leflunomide', 'levobunolol', 'levorphanol', 'lifitegrast', 'lo/ovral-28', 'loteprednol', 'lumi-sporyn', 'maprotiline', 'melfiat-105', 'meprobamate', 'methenamine', 'methoxsalen', 'metrolotion', 'milnacipran', 'milprem-200', 'milprem-400', 'mirtazapine', 'misoprostol', 'mono-linyah', 'montelukast', 'mymethazine', 'myotonachol', 'naratriptan', 'nateglinide', 'neo-synalar', 'neodecadron', 'nextstellis', 'nicardipine', 'nisoldipine', 'nordette-21', 'nordette-28', 'norisodrine', 'obeticholic', 'olopatadine', 'ophthochlor', 'ora-testryl', 'oseltamivir', 'osimertinib', 'oxiconazole', 'oxymorphone', 'palbociclib', 'perforomist', 'pfizerpen-a', 'pilocarpine', 'pirfenidone', 'pramipexole', 'pravastatin', 'prednicen-m', 'proketazine', 'promethacon', 'promethegan', 'propafenone', 'prostaphlin', 'pylori-chek', 'rilpivirine', 'rimantadine', 'risperidone', 'rivaroxaban', 'rizatriptan', 'roflumilast', 'sapropterin', 'saxagliptin', 'scopolamine', 'sevoflurane', 'simvastatin', 'solifenacin', 'somophyllin', 'stilbestrol', 'sulfacel-15', 'synalgos-dc', 'synophylate', 'tasimelteon', 'terbinafine', 'terbutaline', 'theolair-sr', 'theophyl-sr', 'thioguanine', 'thyro-block', 'thyroshield', 'ticlopidine', 'tioconazole', 'tofranil-pm', 'tolbutamide', 'tolterodine', 'topicycline', 'trichlormas', 'trivagizole', 'tropicamide', 'truphylline', 'venlafaxine', 'voltaren-xr', 'wellcovorin', 'zafirlukast', 'achromycin', 'aeroseb-hc', 'akne-mycin', 'alphacaine', 'alprazolam', 'amantadine', 'amcinonide', 'amiodarone', 'ampicillin', 'anagrelide', 'apremilast', 'aprepitant', 'apresazide', 'apresoline', 'aquatensen', 'aristocort', 'azilsartan', 'balneol-hc', 'balziva-21', 'balziva-28', 'benazepril', 'benoxinate', 'benzamycin', 'benzedrine', 'betapen-vk', 'bexarotene', 'biltricide', 'bromfed-dm', 'brompheril', 'bronchitol', 'bucladin-s', 'bumetanide', 'butalbital', 'calcitriol', 'cap-profen', 'carbidopa,', 'cefadroxil', 'cefuroxime', 'cephalexin', 'cephradine', 'cetrorelix', 'cevimeline', 'chlorofair', 'ciclopirox', 'cimetidine', 'cinacalcet', 'clarinex-d', 'clemastine', 'clenz-lyte', 'clofibrate', 'clonazepam', 'clorotekal', 'colbenemid', 'colchicine', 'colestipol', 'coly-mycin', 'combipatch', 'constulose', 'cyclapen-w', 'cystadrops', 'dabigatran', 'dantrolene', 'declomycin', 'delta-dome', 'dentipatch', 'desflurane', 'dexasporin', 'dextrostat', 'didanosine', 'dienestrol', 'diflunisal', 'dipivefrin', 'disulfiram', 'divalproex', 'dofetilide', 'dronabinol', 'duloxetine', 'econochlor', 'edarbyclor', 'eletriptan', 'eliglustat', 'endometrin', 'entacapone', 'epinastine', 'eplerenone', 'eprosartan', 'ergotamine', 'erythrocin', 'esgic-plus', 'esterified', 'estraguard', 'ethacrynic', 'ethambutol', 'ethynodiol', 'etidronate', 'etravirine', 'euthroid-1', 'euthroid-2', 'euthroid-3', 'everolimus', 'exemestane', 'famotidine', 'febuxostat', 'felodipine', 'fenoprofen', 'fingolimod', 'flecainide', 'fluoroplex', 'flurazepam', 'formoterol', 'fosfomycin', 'furadantin', 'furosemide', 'gastrocrom', 'gastrovist', 'gentacidin', 'gentamicin', 'glucovance', 'gynazole-1', 'halflytely', 'halotestin', 'hydra-zide', 'hydro-ride', 'hydro-serp', 'indapamide', 'intermezzo', 'iontocaine', 'irrigating', 'isoflurane', 'ivabradine', 'ivermectin', 'kayexalate', 'ketoprofen', 'lac-hydrin', 'lacosamide', 'lanabiotic', 'lenvatinib', 'leucovorin', 'lisinopril', 'livtencity', 'lo-blisovi', 'lopinavir;', 'lorcaserin', 'lumenhance', 'macitentan', 'maxzide-25', 'mellaril-s', 'meperidine', 'mesalamine', 'metaxalone', 'methergine', 'meticorten', 'metolazone', 'metopirone', 'metrocream', 'metromidol', 'metyrosine', 'mexiletine', 'mirabegron', 'modrastane', 'mometasone', 'morphabond', 'moxidectin', 'mucosil-10', 'mucosil-20', 'mycifradin', 'mycitracin', 'mycolog-ii', 'mydriafair', 'nabumetone', 'naltrexone', 'nedocromil', 'nefazodone', 'neo-cortef', 'neo-fradin', 'nifedipine', 'nilutamide', 'nimodipine', 'nintedanib', 'nitisinone', 'nizatidine', 'norgestrel', 'obestin-30', 'ocusulf-10', 'olanzapine', 'ophthocort', 'ortho-cept', 'pediamycin', 'penapar-vk', 'permethrin', 'persantine', 'pertofrane', 'physiolyte', 'polycillin', 'pregabalin', 'pretomanid', 'prexxartan', 'proamatine', 'proctocort', 'proctofoam', 'prometrium', 'quetiapine', 'quillivant', 'quinaglute', 'raloxifene', 'ranitidine', 'ranolazine', 'rasagiline', 'reserpine,', 'ribasphere', 'ritalin-sr', 'rondomycin', 'ropinirole', 'roxicodone', 'rufinamide', 's.a.s.-500', 'salutensin', 'sandimmune', 'seasonique', 'segluromet', 'selegiline', 'septi-soft', 'sertraline', 'sildenafil', 'sinografin', 'sofosbuvir', 'somatuline', 'sorbitrate', 'spectazole', 'spectracef', 'statobex-g', 'sucralfate', 'sulfair-15', 'sulfamylon', 'synalar-hp', 'synkayvite', 'synovalyte', 'syntocinon', 'tab-profen', 'tacrolimus', 'tafluprost', 'tamsulosin', 'tapentadol', 'tavaborole', 'tazarotene', 'technetium', 'theroxidil', 'thiosulfil', 'thyro-tabs', 'thyrolar-1', 'thyrolar-2', 'thyrolar-3', 'thyrolar-5', 'tinidazole', 'tolazamide', 'topiramate', 'toremifene', 'totacillin', 'tranexamic', 'travoprost', 'tri-legest', 'tri-linyah', 'trialodine', 'trichlorex', 'tridesilon', 'trintellix', 'trisoralen', 'trivora-21', 'tropicacyl', 'vagistat-1', 'valrelease', 'valrubicin', 'valsartan;', 'vardenafil', 'versapen-k', 'vibra-tabs', 'vibramycin', 'vicoprofen', 'vigabatrin', 'vilazodone', 'visionblue', 'zestoretic', 'zidovudine', 'zonisamide', 'botox', 'calan', 'coreg', 'ddavp', 'doryx', 'gvoke', 'luvox', 'opana', 'orlex', 'paxil', 'vosol', 'xenon', 'zerit', 'zyflo', 'ablysinol', 'accurbron', 'acitretin', 'actimmune', 'acyclovir', 'afirmelle', 'ala-scalp', 'albamycin', 'aldactone', 'alfuzosin', 'aliskiren', 'allernaze', 'alosetron', 'alphaderm', 'alphadrol', 'alphazine', 'altafluor', 'alvimopan', 'amiloride', 'amlexanox', 'amoxapine', 'anafranil', 'android-f', 'anestacon', 'aristogel', 'arthrotec', 'athrombin', 'atromid-s', 'avandamet', 'avandaryl', 'aviane-21', 'aviane-28', 'bactocill', 'bactroban', 'bafiertam', 'balcoltra', 'barstatin', 'beclovent', 'bendectin', 'benzaclin', 'besivance', 'betaprone', 'betaseron', 'betaxolol', 'bilopaque', 'blocadren', 'brethaire', 'brisdelle', 'bromanate', 'bronkodyl', 'bronkosol', 'buspirone', 'c-solve-2', 'cabometyx', 'calquence', 'carbachol', 'carbastat', 'carglumic', 'carteolol', 'cefprozil', 'celecoxib', 'celestone', 'cerumenex', 'cetrotide', 'chabelina', 'chronulac', 'cida-stat', 'clindagel', 'clindesse', 'clozapine', 'combivent', 'compazine', 'constilac', 'cordarone', 'cort-dome', 'cortifoam', 'cortisone', 'covera-hs', 'cromoptic', 'danocrine', 'darunavir', 'dasatinib', 'delstrigo', 'deltasone', 'dermacort', 'dexacidin', 'dexedrine', 'dextroamp', 'di-metrex', 'diabinese', 'dicumarol', 'diprosone', 'disophrol', 'dispermox', 'diucardin', 'dolishale', 'doxazosin', 'e-z-paque', 'econazole', 'econopred', 'emete-con', 'emoquette', 'enduronyl', 'enflurane', 'entecavir', 'epidiolex', 'ergamisol', 'erlotinib', 'estarylla', 'estazolam', 'estraderm', 'estrasorb', 'ethmozine', 'etoposide', 'etrafon-a', 'extraneal', 'fernisone', 'ferriprox', 'flavoxate', 'flexicort', 'floropryl', 'fluothane', 'fortovase', 'fungizone', 'gantrisin', 'garamycin', 'gefitinib', 'geocillin', 'gleostine', 'glucamide', 'glyburide', 'glycoprep', 'grifulvin', 'grisactin', 'guanabenz', 'gyne-sulf', 'halothane', 'helicosol', 'hexa-germ', 'hexascrub', 'homapin-5', 'hycofenix', 'hydergine', 'hydramine', 'hydrap-es', 'hydropane', 'icosapent', 'imiquimod', 'intelence', 'introvale', 'inversine', 'isoniazid', 'ivacaftor', 'kapspargo', 'kenalog-h', 'ketotifen', 'koglucoid', 'krintafel', 'labetalol', 'lacrisert', 'lactulose', 'lanorinal', 'lantrisul', 'lapatinib', 'lastacaft', 'libervant', 'libritabs', 'lithonate', 'lithostat', 'lithotabs', 'lopinavir', 'lorcet-hd', 'magnacort', 'malathion', 'malmorede', 'maraviroc', 'mavenclad', 'maxibolin', 'meclizine', 'meclodium', 'medigesic', 'mefenamic', 'megestrol', 'meloxicam', 'melphalan', 'memantine', 'menadione', 'mentax-tc', 'meprospan', 'metandren', 'methampex', 'micort-hc', 'micrainin', 'micronase', 'midazolam', 'midodrine', 'milophene', 'minastrin', 'minivelle', 'miochol-e', 'modafinil', 'moexipril', 'monobasic', 'motegrity', 'multifuge', 'mupirocin', 'myambutol', 'mycelex-g', 'mycobutin', 'mydriacyl', 'nalidixic', 'nebivolol', 'neosporin', 'neptazane', 'neratinib', 'neuramate', 'neurontin', 'nexplanon', 'niclocide', 'nilandron', 'nilotinib', 'nitrogen,', 'nitromist', 'nitrostat', 'norcept-e', 'norminest', 'normozide', 'norpramin', 'numorphan', 'nutracort', 'nystaform', 'ofloxacin', 'ontruzant', 'ophthaine', 'ophthetic', 'optomycin', 'orenitram', 'ortho-est', 'otobiotic', 'ovulen-21', 'ovulen-28', 'oxaprozin', 'oxsoralen', 'palladone', 'pancreaze', 'panwarfin', 'paracaine', 'paradione', 'paredrine', 'paskalium', 'pediapred', 'pediatric', 'pegintron', 'penbritin', 'penthrane', 'pentolair', 'pentothal', 'percorten', 'pergolide', 'periactin', 'periochip', 'periogard', 'phenazine', 'phenetron', 'phenurone', 'piroxicam', 'plaquenil', 'poly-pred', 'portia-21', 'portia-28', 'pramosone', 'prandimet', 'prasugrel', 'pravigard', 'prefrin-a', 'presamine', 'prevacare', 'prevalite', 'primidone', 'proleukin', 'proloprim', 'pronestyl', 'protostat', 'proventil', 'qualaquin', 'quartette', 'quibron-t', 'quinatime', 'rauserpin', 'rautensin', 'rauwiloid', 'readyprep', 'renacidin', 'rifabutin', 'rimactane', 'riociguat', 'ritonavir', 'robaxisal', 'robimycin', 'rocklatan', 'rozlytrek', 'sclerosol', 'scrubteam', 'seglentis', 'selexipag', 'selzentry', 'semprex-d', 'ser-ap-es', 'seromycin', 'serophene', 'serpanray', 'serpivite', 'servisone', 'silodosin', 'singulair', 'sirolimus', 'soolantra', 'sorafenib', 'soriatane', 'stanozide', 'stavudine', 'steglatro', 'steglujan', 'steritalc', 'strattera', 'striverdi', 'sulfaloid', 'sulten-10', 'sunitinib', 'surmontil', 'symbicort', 'symmetrel', 'synthetic', 'synthroid', 'tadalafil', 'tamoxifen', 'tandearil', 'targretin', 'tecfidera', 'technivie', 'telepaque', 'temazepam', 'tenofovir', 'tenoretic', 'terazosin', 'tetrachel', 'thalitone', 'theochron', 'theolixir', 'thorazine', 'thyrosafe', 'tiagabine', 'tiopronin', 'tis-u-sol', 'tobrasone', 'tolcapone', 'tolvaptan', 'tornalate', 'trancopal', 'trazodone', 'tretinoin', 'triacin-c', 'tribenzor', 'trileptal', 'trilitron', 'truseltiq', 'tussicaps', 'tussionex', 'tylox-325', 'unitensen', 'uticillin', 'valsartan', 'vandazole', 'vaseretic', 'vasocidin', 'vasocon-a', 'verapamil', 'versacloz', 'victrelis', 'vigadrone', 'viskazide', 'vistogard', 'vitrasert', 'westadone', 'wigrettes', 'xylo-pfan', 'zithromax', 'zolpimist', 'zomig-zmt', 'zontivity', 'zypitamag', 'absorica', 'acarbose', 'accolate', 'accrufer', 'accutane', 'aclovate', 'actahist', 'acticort', 'actigall', 'actisite', 'activase', 'adefovir', 'adhansia', 'adipex-p', 'adlarity', 'aerolone', 'aerospan', 'afeditab', 'aggrenox', 'alecensa', 'alkergot', 'allerfed', 'allzital', 'alphalin', 'altavera', 'aluminum', 'ammonium', 'amvuttra', 'androgel', 'anhydron', 'annovera', 'antivert', 'antrenyl', 'anturane', 'aplenzin', 'aptensio', 'aranelle', 'arcalyst', 'arimidex', 'aromasin', 'aspruzyo', 'astagraf', 'athentia', 'atropine', 'atrovent', 'auvelity', 'axitinib', 'azmacort', 'azstarys', 'baclofen', 'balanced', 'balversa', 'banthine', 'basaglar', 'beconase', 'belrapzo', 'belsomra', 'benadryl', 'benoquin', 'beta-val', 'betaderm', 'betadine', 'betatrex', 'bicillin', 'bilivist', 'bioscrub', 'bleph-30', 'borofair', 'braftovi', 'briellyn', 'briviact', 'bromanyl', 'bromsite', 'bronitin', 'bunavail', 'butabarb', 'buticaps', 'bynfezia', 'bystolic', 'byvalson', 'cafergot', 'caffeine', 'calderol', 'calomist', 'camoquin', 'caprelsa', 'carafate', 'carbaglu', 'carbilev', 'cardrase', 'carnitor', 'carospir', 'cataflam', 'catapres', 'cefaclor', 'cefdinir', 'cefixime', 'cellcept', 'cenestin', 'cephulac', 'cervidil', 'cetacort', 'cetamide', 'cetapred', 'cetraxal', 'choledyl', 'choloxin', 'cholybar', 'cinnasil', 'ciprodex', 'circanol', 'claravis', 'clindets', 'clorpres', 'clovique', 'cloxapen', 'clozaril', 'co-gesic', 'codamine', 'codeprex', 'cogentin', 'colestid', 'colocort', 'colonaid', 'colovage', 'combigan', 'combivir', 'complera', 'compound', 'concerta', 'condylox', 'conjupri', 'consensi', 'copiktra', 'corlanor', 'cotellic', 'cresemba', 'crixivan', 'cryselle', 'curosurf', 'cyclaine', 'cyclessa', 'cyclogyl', 'cyclopar', 'cycloset', 'cymbalta', 'cystagon', 'cystaran', 'cytadren', 'cytovene', 'daklinza', 'daliresp', 'dantrium', 'daranide', 'daraprim', 'dartisla', 'darvocet', 'daurismo', 'daytrana', 'decaderm', 'decadron', 'decapryn', 'del-vi-a', 'deltalin', 'delzicol', 'depakene', 'dermotic', 'desonate', 'desonide', 'detroamp', 'dexacort', 'dexampex', 'dexilant', 'dextenza', 'diclegis', 'didronel', 'differin', 'diflucan', 'dionosil', 'disobrom', 'doptelet', 'dostinex', 'doxychel', 'dralserp', 'dralzine', 'drizalma', 'duphalac', 'duradyne', 'duraphyl', 'duraprep', 'dutoprol', 'dyclopro', 'dyrenium', 'eldecort', 'eldepryl', 'elestrin', 'elifemme', 'elixicon', 'elixomin', 'embeline', 'empaveli', 'empracet', 'enstilar', 'entocort', 'entresto', 'envarsus', 'eprontia', 'ergoloid', 'ergostat', 'erivedge', 'erycette', 'estrogel', 'estrovis', 'ethamide', 'euthyrox', 'excedrin', 'exelderm', 'exkivity', 'exservan', 'extended', 'fallback', 'fansidar', 'fareston', 'felbatol', 'feminone', 'fempatch', 'femtrace', 'fensolvi', 'fentanyl', 'fibricor', 'fintepla', 'firmagon', 'flexeril', 'flo-pred', 'flolipid', 'florinef', 'flowtuss', 'fluor-op', 'foamcoat', 'forbaxin', 'fortamet', 'fortesta', 'fortical', 'fosrenol', 'furoxone', 'gabitril', 'galafold', 'gamophen', 'gaviscon', 'gelnique', 'gen-xene', 'generlac', 'genoptic', 'gildagia', 'gilotrif', 'givlaari', 'gloperba', 'glumetza', 'glycolax', 'golytely', 'goprelto', 'granisol', 'gris-peg', 'gynodiol', 'gynorest', 'habitrol', 'haldrone', 'haloette', 'harmonyl', 'heptalac', 'hexadrol', 'hiserpia', 'histafed', 'hiwolfia', 'horizant', 'hygroton', 'hyserpin', 'hysingla', 'idkit:hp', 'imatinib', 'imcivree', 'impavido', 'implanon', 'incassia', \"infant's\", \"infants'\", 'infasurf', 'ingrezza', 'innopran', 'inveltys', 'invirase', 'invokana', 'iodotope', 'isibloom', 'isturisa', 'jantoven', 'jencycla', 'juvisync', 'jynarque', 'kalexate', 'kalydeco', 'kanjinti', 'karbinal', 'katerzia', 'kemadrin', 'kenacort', 'kerendia', 'kerledex', 'kesimpta', 'khedezla', 'kimidess', 'kloromin', 'kloxxado', 'koselugo', 'kovanaze', 'kyzatrex', 'lactated', 'laniazid', 'larodopa', 'lax-lyte', 'laxilose', 'leribane', 'leritine', 'letairis', 'leukeran', 'levaquin', 'levonest', 'lidoderm', 'lidosite', 'lincocin', 'lioresal', 'lipiodol', 'liquamar', 'lithobid', 'livmarli', 'livostin', 'lomanate', 'losartan', 'lotronex', 'lotusate', 'low-quel', 'loxapine', 'loxitane', 'lucemyra', 'ludiomil', 'lumizyme', 'lupkynis', 'lypqozet', 'lyvispah', 'macrilen', 'macrobid', 'matulane', 'maxaquin', 'measurin', 'meclomen', 'medipren', 'mekinist', 'melamisa', 'mellaril', 'menostar', 'mestinon', 'metaglip', 'metozolv', 'metreton', 'metrogel', 'micronor', 'microsul', 'mifeprex', 'migergot', 'miglitol', 'migranal', 'milprosa', 'minitran', 'minizide', 'minolira', 'mintezol', 'mircette', 'mitigare', 'moctanin', 'monopril', 'morphine', 'mounjaro', 'movantik', 'moviprep', 'mucomyst', 'mulpleta', 'mycapssa', 'myfortic', 'mylotarg', 'myorisan', 'myoscint', 'mysoline', 'mytelase', 'nafazair', 'namzaric', 'naprelan', 'naprosyn', 'naquival', 'nasalide', 'nascobal', 'nayzilam', 'nebupent', 'nembutal', 'neulasta', 'nexiclon', 'nexletol', 'nexlizet', 'nicoderm', 'nicotrol', 'nivestym', 'noritate', 'norliqva', 'norlutin', 'norplant', 'norquest', 'nourianz', 'noxivent', 'nuedexta', 'nulytely', 'numbrino', 'nuplazid', 'nuvaring', 'nydrazid', 'nymalize', 'oby-trim', 'ocuclear', 'ocumycin', 'ocupress', 'olumiant', 'ona-mast', 'oncaspar', 'ongentys', 'opticrom', 'optimine', 'opzelura', 'oramorph', 'orilissa', 'orladeyo', 'orsythia', 'osmoprep', 'otobione', 'ovcon-50', 'ovral-28', 'oxandrin', 'oxervate', 'oxtellar', 'pacerone', 'pagitane', 'panixine', 'panmycin', 'panretin', 'paracort', 'paraflex', 'paragard', 'parlodel', 'parsidol', 'patanase', 'pathocil', 'peg-lyte', 'peganone', 'pemazyre', 'pemoline', 'penecort', 'penetrex', 'pennsaid', 'penntuss', 'pentoxil', 'percocet', 'percodan', 'permitil', 'perseris', 'phenytex', 'pifeltro', 'pilopine', 'pimozide', 'pirmella', 'placidyl', 'plegisol', 'pliaglis', 'polytrim', 'pomalyst', 'portalac', 'povidone', 'prazosin', 'pre-sate', 'prepidil', 'prepopik', 'prevymis', 'prezista', 'prinivil', 'prinzide', 'proben-c', 'procapan', 'procysbi', 'profenal', 'prolensa', 'prolixin', 'promacta', 'propacet', 'propecia', 'prophene', 'protonix', 'protopam', 'protopic', 'provigil', 'pur-wash', 'pyocidin', 'pyrukynd', 'qternmet', 'quasense', 'quinalan', 'quinidex', 'radicava', 'ramipril', 'raniclor', 'rapamune', 'raudixin', 'rayaldee', 'recorlev', 'reditrex', 'regranex', 'regroton', 'relexxii', 'relistor', 'relyvrio', 'remicade', 'renese-r', 'renoquid', 'renormax', 'resporal', 'restoril', 'retavase', 'retrovir', 'revlimid', 'rezurock', 'rifamate', 'rifampin', 'riluzole', 'rimso-50', \"ringer's\", 'roxiprin', 'roxybond', 'ryaltris', 'rybelsus', 'salonpas', 'scemblix', 'scenesse', 'selfemra', 'sensipar', 'septisol', 'serentil', 'serevent', 'serpasil', 'setlakin', 'sfrowasa', 'signifor', 'simpesse', 'simulect', 'sine-aid', 'sinequan', 'sivextro', 'skelaxin', 'solaraze', 'soltamox', 'soluprep', 'sonazine', 'sotylize', 'soxazole', 'soy-dome', 'spinraza', 'sporanox', 'spravato', 'sprintec', 'sprx-105', 'staticin', 'statobex', 'stivarga', 'sulfalar', 'sulindac', 'sulphrin', 'suprenza', 'surfaxin', 'survanta', 'sustaire', 'symadine', 'sympazan', 'synacort', 'synjardy', 'taclonex', 'tafinlar', 'tagrisso', 'takhzyro', 'tambocor', 'tapazole', 'taractan', 'tascenso', 'tavist-1', 'taytulla', 'tazverik', 'teebacin', 'tegretol', 'tenathan', 'tenormin', 'tepmetko', 'terfonyl', 'testopel', 'tetracyn', 'tetramed', 'texacort', 'thalomid', 'theolair', 'theophyl', 'tiglutik', 'timolide', 'tindamax', 'tivorbex', 'tofranil', 'tolinase', 'tolmetin', 'tracleer', 'trecator', 'tri-luma', 'tri-mili', 'triacort', 'triaprin', 'tridione', 'triglide', 'trijardy', 'trikafta', 'trilafon', 'trizivir', 'trokendi', 'trospium', 'trudhesa', 'tuzistra', 'ultracef', 'ultracet', 'uniretic', 'urocit-k', 'urologic', 'ursodiol', 'valisone', 'valturna', 'vancocin', 'vancoled', 'vantrela', 'vapo-iso', 'vazalore', 'vectical', 'ventaire', 'ventavis', 'veraring', 'veriloid', 'verkazia', 'vermidol', 'vertavis', 'verzenio', 'vesanoid', 'vesicare', 'vi-dom-a', 'vicoprin', 'virazole', 'viroptic', 'vistaril', 'vitrakvi', 'vivlodex', 'vizimpro', 'vocabria', 'voquezna', 'votrient', 'vumerity', 'vyndamax', 'vyndaqel', 'warfarin', 'wigraine', 'winstrol', 'xaracoll', 'xartemis', 'xelstrym', 'xenazine', 'xultophy', 'yosprala', 'zaleplon', 'zanaflex', 'zarontin', 'zelboraf', 'zembrace', 'zenatane', 'zepatier', 'zileuton', 'zolpidem', 'zonisade', 'zorvolex', 'zuragard', 'zurampic', 'zynrelef', 'axid', 'cold', 'kaon', 'olux', 'pred', 'qvar', 'tobi', 'abilify', 'abstral', 'accuneb', 'acephen', 'actidil', 'actifed', 'actin-n', 'actinex', 'acuvail', 'adasuve', 'adcirca', 'adempas', 'adlyxin', 'aemcolo', 'aerobid', 'afrezza', 'afrinol', 'agrylin', 'akynzeo', 'alamast', 'albenza', 'alcaine', 'aldomet', 'alferon', 'alkindi', 'alocril', 'alomide', 'altabax', 'altreno', 'alupent', 'alvesco', 'amabelz', 'ambenyl', 'amitril', 'amosene', 'angeliq', 'antepar', 'anzemet', 'aptivus', 'aquasol', 'arakoda', 'aranesp', 'arcapta', 'arestin', 'asendin', 'ashlyna', 'asmanex', 'aspirin', 'astelin', 'atelvia', 'atralin', 'atridox', 'atripla', 'auryxia', 'austedo', 'avaclyr', 'avagard', 'avalide', 'avandia', 'avodart', 'ayvakit', 'azelaic', 'azilect', 'baci-rx', 'baxdela', 'bekyree', 'belbuca', 'bendeka', 'bendopa', 'benemid', 'benicar', 'benylin', 'bepreve', 'beta-hc', 'betagan', 'betaine', 'betapar', 'betaxon', 'betimol', 'bevespi', 'bevyxxa', 'binosto', 'bismuth', 'bonsity', 'bontril', 'bosulif', 'breztri', 'broncho', 'brovana', 'bryhali', 'butalan', 'butapap', 'butisol', 'butrans', 'calcium', 'campral', 'camzyos', 'caplyta', 'capoten', 'cardura', 'cartrol', 'cassipa', 'cathflo', 'cayston', 'centrax', 'cesamet', 'cetylev', 'chantix', 'cholbam', 'cibinqo', 'ciloxan', 'cinobac', 'clenpiq', 'clistin', 'cloderm', 'codeine', 'colcrys', 'colgate', 'copegus', 'corgard', 'corphed', 'cortone', 'cortril', 'corzide', 'crestor', 'crinone', 'cuvrior', 'cyonanz', 'cysview', 'cytomel', 'cytotec', 'cytoxan', 'dalmane', 'daricon', 'dayvigo', 'decabid', 'delaxin', 'demadex', 'denavir', 'descovy', 'desowen', 'desoxyn', 'desyrel', 'di-atro', 'dibenil', 'dicopac', 'dificid', 'digoxin', 'dilacor', 'dilt-cd', 'disipal', 'disomer', 'divigel', 'dojolvi', 'dolobid', 'doriden', 'dormate', 'dovonex', 'doxepin', 'drisdol', 'duaklir', 'duetact', 'duobrii', 'durysta', 'dyazide', 'dymelor', 'dymista', 'dynabac', 'dynacin', 'dynapen', 'e-mycin', 'e-solve', 'e-z-cat', 'edecrin', 'edurant', 'egrifta', 'elepsia', 'elestat', 'elimite', 'elinest', 'eliphos', 'eliquis', 'elmiron', 'eluryng', 'emflaza', 'emtriva', 'enablex', 'enduron', 'enjuvia', 'enskyce', 'entadfi', 'entereg', 'enulose', 'epanova', 'epicort', 'epsolay', 'equanil', 'equetro', 'ergomar', 'erleada', 'ertaczo', 'eryderm', 'eryzole', 'esbriet', 'esidrix', 'estrace', 'estring', 'ethrane', 'eucrisa', 'eulexin', 'eutonyl', 'evalose', 'evamist', 'evoclin', 'exforge', 'exidine', 'exosurf', 'factive', 'falmina', 'farydak', 'fayosim', 'fazaclo', 'femogen', 'femring', 'femstat', 'fentora', 'ferrous', 'fetzima', 'finacea', 'finzala', 'firvanq', 'flector', 'fluocet', 'fluonid', 'focalin', 'folvite', 'forfivo', 'fotivda', 'fyavolv', 'fycompa', 'gemmily', 'gemonil', 'gemtesa', 'genapax', 'gengraf', 'genvoya', 'gerimal', 'gilenya', 'gleolan', 'glycort', 'glynase', 'gocovri', 'gonitro', 'gralise', 'h.r.-50', 'halcion', 'halog-e', 'halotex', 'harvoni', 'heather', 'hedulin', 'helidac', 'helium,', 'hepsera', 'herplex', 'hexalen', 'hispril', 'humalog', 'humatin', 'hy-phen', 'hycodan', 'hydro-d', 'hylorel', 'hypaque', 'ibsrela', 'ilosone', 'imagent', 'impeklo', 'imvexxy', 'inbrija', 'incivek', 'incruse', 'innofem', 'inrebic', 'intuniv', 'ionamin', 'ismelin', 'isoclor', 'isoptin', 'isordil', 'istalol', 'jadelle', 'januvia', 'jatenzo', 'jelmyto', 'k-lease', 'kafocin', 'kaitlib', 'kaletra', 'kalliga', 'kantrex', 'kemstro', 'kerlone', 'kerydin', 'keveyis', 'kisqali', 'kitabis', 'klisyri', 'klotrix', 'kurvelo', 'kybella', 'kyleena', 'kynamro', 'kynmobi', 'lanoxin', 'larotid', 'latisse', 'lazanda', 'lenvima', 'levatol', 'levitra', 'levolet', 'levoxyl', 'levulan', 'lexapro', 'lexette', 'librium', 'lidex-e', 'liletta', 'lindane', 'lipidil', 'lipitor', 'lithane', 'lo-trol', 'logilia', 'lokelma', 'lomaira', 'lomotil', 'lonhala', 'loniten', 'lonsurf', 'lopurin', 'lorabid', 'lorelco', 'lotemax', 'lumigan', 'lunesta', 'lybalvi', 'lynoral', 'lytgobi', 'maolate', 'marinol', 'marplan', 'mavyret', 'maxidex', 'maxolon', 'maxzide', 'mayzent', 'mazanor', 'medical', 'mektovi', 'melfiat', 'meretek', 'mevacor', 'mexitil', 'mibelas', 'midamor', 'miltown', 'minirin', 'minocin', 'miochol', 'miostat', 'miradon', 'miralax', 'mirvaso', 'moderil', 'modicon', 'monodox', 'monoket', 'monurol', 'moxatag', 'mozobil', 'mydayis', 'mykacet', 'mykinac', 'myobloc', 'namenda', 'nasarel', 'natacyn', 'natazia', 'natroba', 'navstel', 'neggram', 'nerlynx', 'nevanac', 'nexavar', 'nexcede', 'nexesta', 'nicolar', 'nilstat', 'nimotop', 'ninlaro', 'niravam', 'nitrous', 'nogenic', 'noludar', 'norflex', 'noroxin', 'norvasc', 'novafed', 'nuvessa', 'ocaliva', 'ocuflox', 'ocusert', 'oleptro', 'omidria', 'omlonti', 'omnaris', 'omnipen', 'onexton', 'onglyza', 'onsolis', 'onzetra', 'opcicon', 'opcon-a', 'opsumit', 'optivar', 'orabase', 'oralone', 'oraltag', 'orasone', 'orgovyx', 'orinase', 'orkambi', 'ortikos', 'oruvail', 'osmolex', 'osphena', 'otocort', 'otrexup', 'oxbryta', 'oxygen,', 'oxylone', 'ozempic', 'pamelor', 'parafon', 'parcopa', 'paremyd', 'parnate', 'paxipam', 'pegasys', 'pen-vee', 'peridex', 'perjeta', 'philith', 'pizensy', 'plegine', 'poly-rx', 'polymox', 'ponvory', 'posimir', 'pradaxa', 'pramine', 'precose', 'prefest', 'prelone', 'prevpac', 'priftin', 'pristiq', 'procomp', 'prograf', 'proklar', 'prometa', 'propine', 'proquin', 'proscar', 'prostep', 'provera', 'psorcon', 'purixan', 'qelbree', 'qinlock', 'qoliana', 'quarzan', 'quinact', 'quinine', 'quinora', 'qulipta', 'qutenza', 'quviviq', 'rebetol', 'relafen', 'relenza', 'releuko', 'remeron', 'renagel', 'reno-30', 'renvela', 'rescula', 'retin-a', 'revatio', 'rexulti', 'rezulin', 'rhuzdah', 'ridaura', 'rifadin', 'rifater', 'rimadyl', 'rimifon', 'ritalin', 'rituxan', 'robaxin', 'robinul', 'robitet', 'roxilox', 'rozerem', 'ryzodeg', 'safyral', 'salagen', 'saluron', 'sancuso', 'sandril', 'sanorex', 'sansert', 'saphris', 'sarafem', 'savaysa', 'savella', 'saxenda', 'scabene', 'sectral', 'secuado', 'sedapap', 'sernivo', 'serpate', 'serzone', 'seysara', 'silenor', 'silphen', 'simliya', 'sinemet', 'sirturo', 'slo-bid', 'sogroya', 'sojourn', 'soliqua', 'solodyn', 'solosec', 'sorilux', 'sotyktu', 'sovaldi', 'sparine', 'spiriva', 'spritam', 'sprycel', 'starlix', 'statrol', 'stavzor', 'sterane', 'stiolto', 'striant', 'strifon', 'subutex', 'suclear', 'sucraid', 'sulf-10', 'sulf-15', 'sulfose', 'sumycin', 'suprane', 'sustiva', 'symtuza', 'synagis', 'synalar', 'synarel', 'syndros', 'synribo', 'syprine', 'tacaryl', 'talacen', 'talicia', 'tamiflu', 'tarceva', 'tarpeyo', 'tasigna', 'tatum-t', 'tavneos', 'tazorac', 'tegison', 'tegopen', 'tegsedi', 'tekamlo', 'teldrin', 'temaril', 'tembexa', 'temixys', 'temodar', 'tepanil', 'testred', 'theo-24', 'tiamate', 'tibsovo', 'tikosyn', 'timolol', 'tivicay', 'tolsura', 'topamax', 'toradol', 'torecan', 'tosymra', 'tranmep', 'travase', 'treanda', 'trelegy', 'trental', 'trexall', 'triacet', 'trianex', 'triatex', 'triclos', 'triderm', 'triphed', 'triumeq', 'trusopt', 'truvada', 'tuxarin', 'twynsta', 'tyblume', 'tycolet', 'tyrvaya', 'ubrelvy', 'ucephan', 'ulesfia', 'unipres', 'uptravi', 'urispas', 'uroplus', 'urovist', 'utibron', 'uticort', 'vagifem', 'vagilia', 'valcyte', 'valstar', 'valtoco', 'valtrex', 'vascepa', 'vasocon', 'vasotec', 'veltane', 'vepesid', 'vercyte', 'verdeso', 'veregen', 'verelan', 'verquvo', 'vesprin', 'viberzi', 'vicodin', 'victoza', 'viekira', 'vigamox', 'viibryd', 'viokace', 'viorele', 'virilon', 'visicol', 'vitekta', 'vogelxo', 'vospire', 'voxzogo', 'vraylar', 'vyleesi', 'vytorin', 'vyvanse', 'vyzulta', 'welireg', 'winlevi', \"women's\", 'wygesic', 'wynzora', 'xaciato', 'xalatan', 'xalkori', 'xeglyze', 'xelpros', 'xenical', 'xermelo', 'xifaxan', 'xofluza', 'xolegel', 'xtrelus', 'xuriden', 'yupelri', 'yutopar', 'zaditor', 'zavesca', 'zaxopam', 'zecuity', 'zeposia', 'zestril', 'ziba-rx', 'zioptan', 'zohydro', 'zokinvy', 'zonalon', 'zovirax', 'zubsolv', 'zyclara', 'zydelig', 'zymaxid', '8-hour', 'abreva', 'acanya', 'acilac', 'acuvue', 'aczone', 'adphen', 'afaxin', 'airduo', 'akbeta', 'aklief', 'alaway', 'alesse', 'alvaiz', 'amaryl', 'ambien', 'amicar', 'amitid', 'amoxil', 'ampyra', 'amzeeq', 'ansaid', 'anspor', 'antara', 'anusol', 'apadaz', 'aptiom', 'arazlo', 'aridol', 'asacol', 'asbron', 'atarax', 'ativan', 'avelox', 'avinza', 'axotal', 'azasan', 'azdone', 'azelex', 'azolid', 'bamate', 'bancap', 'banzel', 'baycol', 'beldin', 'bentyl', 'benzyl', 'beta-2', 'bextra', 'biaxin', 'boniva', 'breyna', 'bryrel', 'buspar', 'bylvay', 'caduet', 'cafcit', 'cambia', 'camila', 'canasa', 'candex', 'cantil', 'carbon', 'carmol', 'cartia', 'cefzil', 'celexa', 'chenix', 'cholac', 'cialis', 'cimduo', 'citric', 'clobex', 'clomid', 'clopra', 'codoxy', 'cognex', 'compro', 'comtan', 'conzip', 'cormax', 'cortan', 'cortef', 'cozaar', 'crolom', 'crotan', 'daypro', 'daysee', 'delfen', 'delsym', 'dexair', 'diamox', 'diapid', 'diphen', 'diuril', 'dolene', 'dovato', 'droxia', 'dsuvia', 'duavee', 'duexis', 'dulera', 'duoneb', 'duvoid', 'dycill', 'e-base', 'e-z-hd', 'ebanga', 'edarbi', 'edluar', 'efudex', 'egaten', 'elidel', 'elocon', 'elyxyb', 'emverm', 'enbrel', 'enovid', 'entero', 'epitol', 'ermeza', 'erygel', 'erymax', 'eryped', 'esimil', 'eskata', 'eutron', 'evotaz', 'evoxac', 'exalgo', 'exelon', 'exjade', 'fabior', 'fanapt', 'fastin', 'femara', 'femcet', 'femcon', 'flagyl', 'flarex', 'fluxid', 'forteo', 'fovane', 'galzin', 'gamene', 'gattex', 'gentak', 'gimoti', 'glyset', 'h-cort', 'haldol', 'halfan', 'hemady', 'hi-cor', 'hiprex', 'hy-pam', 'hydrea', 'hyftor', 'hytrin', 'hyzaar', 'idhifa', 'iheezo', 'ilevro', 'inlyta', 'inomax', 'invega', 'ionsys', 'iressa', 'jornay', 'jublia', 'juluca', 'kadian', 'kapvay', 'kariva', 'kazano', 'keflet', 'keflex', 'keftab', 'kelnor', 'kemeya', 'kionex', 'klaron', 'korlym', 'kytril', 'lampit', 'lariam', 'latuda', 'leqvio', 'lescol', 'levo-t', 'levora', 'lexiva', 'lexxel', 'librax', 'livalo', 'locoid', 'loprox', 'lortab', 'loryna', 'lotrel', 'lovaza', 'lumify', 'lumryz', 'lybrel', 'm-zole', 'makena', 'maxair', 'maxalt', 'meclan', 'menest', 'mentax', 'mepron', 'merzee', 'mesnex', 'mirena', 'moxeza', 'multaq', 'mychel', 'mykrox', 'mytesi', 'mytrex', 'nalfon', 'narcan', 'nardil', 'navane', 'neo-rx', 'neopap', 'neoral', 'nesina', 'neupro', 'niacin', 'niacor', 'nikita', 'nor-qd', 'norcet', 'norvir', 'novrad', 'nubeqa', 'nuprin', 'nurtec', 'nuzyra', 'nysert', 'nystex', 'nystop', 'ocufen', 'odomzo', 'oforta', 'olysio', 'omacor', 'omtryg', 'onsura', 'onureg', 'oracea', 'oraqix', 'oravig', 'orlaam', 'otovel', 'ovulen', 'oxaydo', 'oxycet', 'ozobax', 'p.a.s.', 'pandel', 'paroex', 'penlac', 'permax', 'pexeva', 'phoslo', 'picato', 'pindac', 'piqray', 'plavix', 'plenvu', 'pletal', 'polmon', 'potiga', 'pre-op', 'pred-g', 'prelay', 'preven', 'prompt', 'proval', 'pylera', 'qsymia', 'qudexy', 'quixin', 'ranexa', 'rasuvo', 'rauval', 'relpax', 'remsed', 'renova', 'roszet', 'rowasa', 'rydapt', 'rytary', 'sabril', 'salpix', 'sansac', 'santyl', 'satric', 'seebri', 'selsun', 'siklos', 'sinuva', 'skelid', 'sklice', 'slow-k', 'soaanz', 'solage', 'sonorx', 'sorine', 'sotret', 'sprx-3', 'stadol', 'stoxil', 'subsys', 'sunosi', 'suprax', 'suprep', 'sutent', 'synera', 't-phyl', 't-stat', 'tadliq', 'talwin', 'tasmar', 'taztia', 'teslac', 'testim', 'tetrex', 'thiola', 'thrive', 'tiazac', 'ticlid', 'tilade', 'tindal', 'tlando', 'tnkase', 'tobrex', 'toviaz', 'tricor', 'trimox', 'trovan', 'trymex', 'trysul', 'tukysa', 'turgex', 'twirla', 'twyneo', 'tybost', 'tydemy', 'tymlos', 'tyvaso', 'tyzine', 'u-cort', 'uceris', 'uloric', 'ultram', 'unipen', 'unisom', 'upneeq', 'urobak', 'utimox', 'valium', 'valpin', 'vaniqa', 'vantas', 'vantin', 'varubi', 'vascor', 'veltin', 'verard', 'vermox', 'versed', 'viadur', 'viagra', 'vienva', 'vimovo', 'vimpat', 'vira-a', 'visken', 'volnea', 'vosevi', 'vusion', 'wegovy', 'wixela', 'xadago', 'xatmep', 'xcopri', 'xeloda', 'xhance', 'xibrom', 'xigduo', 'xiidra', 'ximino', 'xpovio', 'xtandi', 'xulane', 'xylose', 'xyrosa', 'yasmin', 'zebeta', 'zejula', 'ziagen', 'zipsor', 'zirgan', 'ztalmy', 'ztlido', 'zydone', 'zytiga', 'azo', 'ssd', 'hc', 'lo', 'a/t/s', 'aceon', 'actiq', 'actos', 'addyi', 'akpro', 'aleve', 'allay', 'alora', 'aloxi', 'alrex', 'amrix', 'amvaz', 'anoro', 'arava', 'arymo', 'avage', 'avita', 'axert', 'ayuna', 'azopt', 'banan', 'baros', 'bayer', 'belix', 'beyaz', 'bucet', 'bumex', 'carac', 'cedax', 'creon', 'depen', 'dilor', 'diulo', 'dopar', 'doral', 'ecoza', 'emcyt', 'emend', 'emgel', 'emsam', 'endep', 'errin', 'esgic', 'exsel', 'fiasp', 'fml-s', 'folic', 'frova', 'giazo', 'halog', 'hicon', 'hivid', 'hyzyd', 'imdur', 'intal', 'iquix', 'jalyn', 'k-tab', 'ketek', 'kwell', 'labid', 'lasix', 'logen', 'loraz', 'lozol', 'luxiq', 'lygen', \"men's\", 'metra', 'midol', 'moban', 'mobic', 'myfed', 'naqua', 'nikki', 'nityr', 'norco', 'nylia', 'onmel', 'ontak', 'opcon', 'opill', 'oseni', 'ovide', 'povan', 'qdolo', 'qtern', 'quide', 'raxar', 'rayos', 'rebif', 'retet', 'revia', 'rufen', 'rybix', 'serax', 'shade', 'skyla', 'slynd', 'sosol', 'sprix', 'sular', 'sutab', 'syeda', 'tarka', 'temaz', 'ten-k', 'tenex', 'teril', 'tigan', 'tolak', 'tpoxx', 'trest', 'triad', 'tylox', 'vanos', 'vexol', 'vicks', 'videx', 'vioxx', 'virac', 'vtama', 'vuity', 'vyduo', 'wakix', 'wilpo', 'wymox', 'xanax', 'xtoro', 'xyrem', 'xyzal', 'yaela', 'yonsa', 'zagam', 'ziana', 'zilxi', 'zingo', 'zocor', 'zomig', 'zyban', 'zylet', 'alli', 'alyq', 'amen', 'azor', 'breo', 'cu-7', 'duac', 'ella', 'eryc', 'evex', 'exem', 'exna', 'flac', 'head', 'ismo', 'izba', 'k+10', 'kyra', 'lipo', 'mili', 'muse', 'ofev', 'onfi', 'orap', 'plan', 'rela', 'skin', 'tace', 'tora', 'urso', 'wera', 'ziac', 'zide', 'zinc', 'zmax', 'avc', 'bss', 'chg', 'dhc', 'fml', 'her', 'hms', 'inh', 'ivy', 'lta', 'mpi', 'nix', 'ocl', 'pbz', 'pce', 'pmb', 'qwo', 'r-p', 'rid', 'sps', 'tpn', 'tri', 'ulo', 'ms', 'vonjo']\n"
     ]
    }
   ],
   "source": [
    "print(LABEL.vocab.itos)"
   ]
  },
  {
   "cell_type": "code",
   "execution_count": null,
   "metadata": {
    "colab": {
     "base_uri": "https://localhost:8080/"
    },
    "id": "_S_URzcA7_fj",
    "outputId": "be96e009-afbb-473e-da8b-848afb934648"
   },
   "outputs": [
    {
     "name": "stdout",
     "output_type": "stream",
     "text": [
      "['<unk>', '<pad>', '<bos>', '<eos>', \"children's\", 'promethazine', 'norethindrone', 'dianeal', 'ortho-novum', 'neomycin', 'hydralazine', 'hydrocodone', 'adderall', 'hydrocortisone', 'amlodipine', 'lamivudine;', 'hydrochlorothiazide', 'sodium', 'erythromycin', 'propoxyphene', 'triprolidine', 'sulfamethoxazole', 'fexofenadine', 'acetaminophen,', 'inpersol-lc/lm', 'monistat', 'clindamycin', 'augmentin', 'ibuprofen', 'oxycodone', 'acetaminophen', 'buprenorphine', 'ciprofloxacin', 'gyne-lotrimin', 'atazanavir', 'chloraprep', 'diclofenac', 'delflex', 'pioglitazone', 'pseudoephedrine', 'estradiol', 'butalbital,', 'lamivudine,', 'microgestin', 'chlorothiazide', 'levonorgestrel', 'spironolactone', 'hydrochlorothiazide;', 'cetirizine', 'dyanavel', 'prevacid', 'calcipotriene', 'dexamethasone', 'rosiglitazone', 'advil', 'hydroflumethiazide', 'carisoprodol', 'fluocinonide', 'polyethylene', 'clonidine', 'lidocaine', 'minoxidil', 'principen', 'flovent', 'norinyl', 'amoxicillin', 'brimonidine', 'candesartan', 'haloperidol', 'isoetharine', 'phentermine', 'propranolol', 'sitagliptin', 'telmisartan', 'lamivudine/nevirapine/zidovudine', 'chlordiazepoxide', 'dextromethorphan', 'methyclothiazide', 'prochlorperazine', 'serpasil-esidrix', 'aerolate', 'aurovela', 'claritin', 'klor-con', 'brompheniramine', 'methylphenidate', 'efavirenz,', 'lamivudine', 'methyldopa', 'miconazole', 'norlestrin', 'omeprazole', 'prevantics', 'stavudine;', 'terramycin', 'wellbutrin', 'bacitracin-neomycin-polymyxin', 'ortho', 'chlorpromazine', 'cholestyramine', 'desvenlafaxine', 'levocetirizine', 'metoclopramide', 'nitrofurantoin', 'anexsia', 'demulen', 'dialyte', 'ethinyl', 'prometh', 'stalevo', 'sterile', 'tylenol', 'varibar', 'veetids', 'vitamin', 'griseofulvin,ultramicrosize', 'albuterol', 'anthelios', 'peg-3350,', 'phenergan', 'pherazine', 'phrenilin', 'pulmicort', 'reserpine', 'chloromycetin', 'dapagliflozin', 'desloratadine', 'diphenoxylate', 'dolutegravir,', 'empagliflozin', 'emtricitabine', 'levocarnitine', 'methocarbamol', 'oxtriphylline', 'phenylephrine', 'sulfacetamide', 'triamcinolone', 'chlorothiazide-reserpine', 'bendamustine', 'clotrimazole', 'desmopressin', 'drospirenone', 'elixophyllin', 'escitalopram', 'esomeprazole', 'flurbiprofen', 'mycophenolic', 'rivastigmine', 'rosuvastatin', 'trandolapril', 'trimethoprim', 'vortioxetine', 'abacavir', 'betoptic', 'bydureon', 'capozide', 'cardizem', 'cyclafem', 'fulvicin', 'lamictal', 'loestrin', 'lotrimin', 'norethin', 'nystatin', 'tolectin', 'ventolin', 'darvon', 'dexone', 'pepcid', 'dapagliflozin;metformin', 'emtricitabine;tenofovir', 'nystatin-triamcinolone', 'biphetamine', 'cystografin', 'dorzolamide', 'doxycycline', 'fenofibrate', 'fluticasone', 'guaifenesin', 'hydroxyzine', 'inpersol-zm', 'linagliptin', 'naphazoline', 'ondansetron', 'orphengesic', 'predsulfair', 'repaglinide', 'sumatriptan', 'thiothixene', 'tofacitinib', 'tri-norinyl', 'triamterene', 'varenicline', 'lamivudine/zidovudine', 'aldoril', 'allegra', 'cleocin', 'flonase', 'gildess', 'imodium', 'menrium', 'micro-k', 'rogaine', 'triavil', 'velosef', 'lamivudine/tenofovir', 'terramycin-polymyxin', 'alogliptin', 'atovaquone', 'azulfidine', 'bacitracin', 'bisoprolol', 'blephamide', 'carvedilol', 'chloroptic', 'claritin-d', 'clobetasol', 'darvocet-n', 'delflex-lm', 'doxylamine', 'efavirenz;', 'fluoxetine', 'fosinopril', 'glucophage', 'imipramine', 'irbesartan', 'isosorbide', 'jentadueto', 'loperamide', 'loratadine', 'metatensin', 'metoprolol', 'neo-medrol', 'nevirapine', 'olmesartan', 'oxybutynin', 'papa-deine', 'paroxetine', 'penicillin', 'primaquine', 'probenecid', 'resectisol', 'tobramycin', 'larin', 'elase-chloromycetin', 'medroxyprogesterone', 'ogen', 'serpasil-apresoline', 'apresoline-esidrix', 'dexbrompheniramine', 'dexmethylphenidate', 'diethylstilbestrol', 'hydroxychloroquine', 'methyltestosterone', 'trichlormethiazide', 'abacavir;', 'acticlate', 'adapalene', 'allegra-d', 'bupropion', 'captopril', 'carbidopa', 'diprolene', 'donepezil', 'efavirenz', 'enalapril', 'estrostep', 'ezetimibe', 'glipizide', 'glucotrol', 'hydropres', 'inflamase', 'invagesic', 'invokamet', 'isentress', 'ketorolac', 'limbitrol', 'locholest', 'lopressor', 'lorazepam', 'magnesium', 'metformin', 'methadone', 'minipress', 'mycelex-7', 'myrbetriq', 'nicorette', 'omnipaque', 'oragrafin', 'pfizerpen', 'phenaphen', 'phenytoin', 'physiosol', 'potassium', 'premphase', 'procardia', 'propulsid', 'quinapril', 'quinidine', 'readi-cat', 'rhinocort', 'sevelamer', 'sulfatrim', 'sulmeprim', 'testoderm', 'theoclear', 'vancenase', 'x-trozine', 'xylocaine', 'zegalogue', 'acetic', 'advair', 'hailey', 'isopto', 'motrin', 'triple', 'zantac', 'zyrtec', 'calcitonin-salmon', 'dihydroergotamine', 'nulytely-flavored', 'sorbitol-mannitol', 'chlorotrianisene', 'chlorpheniramine', 'cyclophosphamide', 'derma-smoothe/fs', 'lisdexamfetamine', 'methylnaltrexone', 'metrogel-vaginal', 'neo-delta-cortef', 'phenoxybenzamine', 'propylthiouracil', 'tri-lo-estarylla', 'trovan/zithromax', 'acetasol', 'actoplus', 'afinitor', 'alphagan', 'armonair', 'atenolol', 'betapace', 'brevicon', 'clarinex', 'codeine,', 'darvon-n', 'depakote', 'dermatop', 'diazepam', 'dimethyl', 'ditropan', 'drixoral', 'dynacirc', 'eskalith', 'fiorinal', 'hydromox', 'ibuprohm', 'inderide', 'klonopin', 'lo/ovral', 'lotensin', 'malarone', 'metadate', 'naloxone', 'naproxen', 'nasacort', 'nicotine', 'norgesic', 'ogestrel', 'oreticyl', 'photrexa', 'prilosec', 'questran', 'razadyne', 'restasis', 'sanctura', 'seroquel', 'sorbitol', 'tekturna', 'temovate', 'timoptic', 'tobradex', 'topicort', 'tramadol', 'trandate', 'tranxene', 'travatan', 'v-cillin', 'vanceril', 'viramune', 'voltaren', 'wyamycin', 'chloramphenicol', 'colyte-flavored', 'cyclobenzaprine', 'dexlansoprazole', 'diphenhydramine', 'doxercalciferol', 'eslicarbazepine', 'fludrocortisone', 'fluoxymesterone', 'flurandrenolide', 'laryngotracheal', 'levomilnacipran', 'low-ogestrel-21', 'low-ogestrel-28', 'methscopolamine', 'neo-hydeltrasol', 'oxsoralen-ultra', 'oxyphenbutazone', 'oxytetracycline', 'salutensin-demi', 'somophyllin-crt', 'theophylline-sr', 'transderm-nitro', 'tranylcypromine', 'trifluoperazine', 'trihexyphenidyl', 'cipro', 'junel', 'zovia', 'acetaminophen;', 'acetylcysteine', 'bacteriostatic', 'catapres-tts-2', 'catapres-tts-3', 'chlor-trimeton', 'chlordiazachel', 'chlorpropamide', 'chlorthalidone', 'clarithromycin', 'col-probenecid', 'cyanocobalamin', 'cyclopentolate', 'cyproheptadine', 'demeclocycline', 'desoximetasone', 'diethylpropion', 'dimenhydrinate', 'doxy-sleep-aid', 'e-z', 'empagliflozin;', 'emtricitabine;', 'epogen/procrit', 'ergocalciferol', 'erythro-statin', 'extra-strength', 'glycopyrrolate', 'inderide-40/25', 'inderide-80/25', 'lo-zumandimine', 'mercaptopurine', 'metaproterenol', 'phenylbutazone', 'polycillin-prb', 'pyridostigmine', 'somophyllin-df', 'sulfinpyrazone', 'tripelennamine', 'valganciclovir', 'actonel', 'adzenys', 'alyacen', 'anaprox', 'android', 'aricept', 'atacand', 'aventyl', 'bactrim', 'blisovi', 'capital', 'cardene', 'climara', 'cordran', 'dasetta', 'diastat', 'effexor', 'florone', 'foradil', 'fosamax', 'hetlioz', 'humulin', 'ibu-tab', 'inderal', 'indocin', 'janumet', 'kenalog', 'lithium', 'mirapex', 'motofen', 'mucinex', 'nadolol', 'nasonex', 'niaspan', 'nizoral', 'norpace', 'nortrel', 'noxafil', 'nucynta', 'orapred', 'oxytrol', 'parasal', 'pataday', 'pentids', 'predair', 'prempro', 'roxicet', 'rythmol', 'sarisol', 'stimate', 'sudafed', 'sulfair', 'tagamet', 'tenuate', 'terazol', 'teveten', 'theobid', 'trimpex', 'xeljanz', 'xopenex', 'zegerid', 'zyprexa', 'acetazolamide', 'acetohexamide', 'alclometasone', 'aminophylline', 'amitriptyline', 'apraclonidine', 'benzphetamine', 'betamethasone', 'brexpiprazole', 'bristacycline', 'bromocriptine', 'cam-metrazine', 'canagliflozin', 'carisoprodol,', 'chlorhexidine', 'chlorzoxazone', 'demi-regroton', 'dicloxacillin', 'dolutegravir;', 'drospirenone,', 'duo-medihaler', 'duragesic-100', 'efinaconazole', 'ethchlorvynol', 'etrafon-forte', 'fernisolone-p', 'fosamprenavir', 'griseofulvin,', 'hydromorphone', 'isoproterenol', 'lansoprazole,', 'levetiracetam', 'levo-dromoran', 'levothyroxine', 'md-gastroview', 'meclofenamate', 'mepro-aspirin', 'metronidazole', 'monistat-derm', 'mycophenolate', 'naturetin-2.5', 'neo-cort-dome', 'nitrofurazone', 'nitroglycerin', 'norgestimate;', 'nortriptyline', 'oxcarbazepine', 'oxymetazoline', 'penicillamine', 'pentobarbital', 'percodan-demi', 'prednicarbate', 'propantheline', 'protriptyline', 'proventil-hfa', 'pyrimethamine', 'retin-a-micro', 'somophyllin-t', 'sulfanilamide', 'sulfapyridine', 'sulfasalazine', 'sulfisoxazole', 'synalgos-dc-a', 'teriflunomide', 'tetrabenazine', 'thyrolar-0.25', 'tri-estarylla', 'tri-lo-linyah', 'trimeth/sulfa', 'ultragris-165', 'ultragris-330', 'aches-n-pain', 'ak-pentolate', 'aldoclor-250', 'aminocaproic', 'aminophyllin', 'arformoterol', 'aripiprazole', 'atorvastatin', 'azathioprine', 'azithromycin', 'benznidazole', 'brinzolamide', 'brivaracetam', 'butabarbital', 'butoconazole', 'capecitabine', 'chloroptic-p', 'clocortolone', 'clomipramine', 'codimal-l.a.', 'cyclosporine', 'cysto-conray', 'desogestrel;', 'dilatrate-sr', 'dipyridamole', 'dolutegravir', 'duragesic-12', 'duragesic-37', 'duragesic-50', 'duragesic-75', 'enzalutamide', 'ethosuximide', 'fentanyl-100', 'fesoterodine', 'fexinidazole', 'fluocinolone', 'fluorouracil', 'fluphenazine', 'frovatriptan', 'fulvicin-u/f', 'gatifloxacin', 'gemifloxacin', 'glutethimide', 'griseofulvin', 'guanethidine', 'hydro-reserp', 'hydrocortone', 'indomethacin', 'isotretinoin', 'ketoconazole', 'lansoprazole', 'lenalidomide', 'levalbuterol', 'liothyronine', 'lo-malmorede', 'lopressidone', 'loseasonique', 'mecamylamine', 'membraneblue', 'methdilazine', 'methotrexate', 'monopril-hct', 'moxifloxacin', 'myco-triacet', 'nitazoxanide', 'nitrolingual', 'norgestimate', 'omega-3-acid', 'optipranolol', 'orphenadrine', 'paricalcitol', 'penicillin-2', 'perchloracap', 'perphenazine', 'phenazine-35', 'phyllocontin', 'phytonadione', 'pimavanserin', 'pimecrolimus', 'pitavastatin', 'pomalidomide', 'posaconazole', 'prednisolone', 'pro-banthine', 'procainamide', 'progestasert', 'progesterone', 'pronestyl-sr', 'proparacaine', 'provocholine', 'sitagliptin;', 'sulfadiazine', 'sulfatrim-ss', 'sulfonamides', 'sumatriptan;', 'telmisartan;', 'temozolomide', 'testosterone', 'theoclear-80', 'theophyl-225', 'theophylline', 'thioridazine', 'thyrolar-0.5', 'tirosint-sol', 'tri-previfem', 'tri-sprintec', 'triaminic-12', 'trimeprazine', 'trimipramine', 'triphasil-21', 'triphasil-28', 'valacyclovir', 'voriconazole', 'acular', 'adalat', 'ceclor', 'colyte', 'cosopt', 'cotrim', 'detrol', 'diovan', 'e.e.s.', 'efidac', 'epaned', 'epiduo', 'ethril', 'evekeo', 'floxin', 'jadenu', 'junior', 'liquid', 'lodine', 'lyrica', 'medrol', 'megace', 'n.e.e.', 'nexium', 'oreton', 'orudis', 'pamine', 'proair', 'procan', 'pytest', 'reglan', 'requip', 'riomet', 'septra', 'tavist', 'toujeo', 'visine', 'zofran', 'soma', 'acamprosate', 'aeroseb-dex', 'akpentolate', 'albendazole', 'aldactazide', 'alendronate', 'almotriptan', 'alogliptin;', 'ambrisentan', 'aminoacetic', 'amnestrogen', 'amphetamine', 'antitussive', 'armodafinil', 'athrombin-k', 'atomoxetine', 'balsalazide', 'benztropine', 'bepotastine', 'bethanechol', 'bimatoprost', 'bristamycin', 'bronkometer', 'butalbital;', 'butazolidin', 'butorphanol', 'cabazitaxel', 'cariprazine', 'chloromyxin', 'chloroquine', 'clopidogrel', 'clorazepate', 'colesevelam', 'concentraid', 'cortisporin', 'cyclacillin', 'cyclomydril', 'cyklokapron', 'dapiprazole', 'darifenacin', 'deoxycholic', 'desipramine', 'desogestrel', 'diatrizoate', 'dibenzyline', 'dicyclomine', 'diflorasone', 'dilantin-30', 'diupres-250', 'diutensen-r', 'doxy-lemmon', 'dronedarone', 'eltrombopag', 'enpresse-21', 'enpresse-28', 'epinephrine', 'estropipate', 'eszopiclone', 'famciclovir', 'famotidine,', 'fentanyl-12', 'fentanyl-25', 'fentanyl-37', 'fentanyl-50', 'fentanyl-62', 'fentanyl-75', 'fentanyl-87', 'finasteride', 'fluconazole', 'flunisolide', 'fluorescein', 'fluvastatin', 'fluvoxamine', 'galantamine', 'ganciclovir', 'gantanol-ds', 'gemfibrozil', 'glimepiride', 'granisetron', 'hydeltrasol', 'hydrodiuril', 'hydroxyurea', 'ibandronate', 'iloperidone', 'indo-lemmon', 'ipratropium', 'irbesartan;', 'lamotrigine', 'latanoprost', 'leflunomide', 'levobunolol', 'levorphanol', 'lifitegrast', 'lo/ovral-28', 'loteprednol', 'lumi-sporyn', 'maprotiline', 'melfiat-105', 'meprobamate', 'methenamine', 'methoxsalen', 'metrolotion', 'milnacipran', 'milprem-200', 'milprem-400', 'mirtazapine', 'misoprostol', 'mono-linyah', 'montelukast', 'mymethazine', 'myotonachol', 'naratriptan', 'nateglinide', 'neo-synalar', 'neodecadron', 'nextstellis', 'nicardipine', 'nisoldipine', 'nordette-21', 'nordette-28', 'norisodrine', 'obeticholic', 'olopatadine', 'ophthochlor', 'ora-testryl', 'oseltamivir', 'osimertinib', 'oxiconazole', 'oxymorphone', 'palbociclib', 'perforomist', 'pfizerpen-a', 'pilocarpine', 'pirfenidone', 'pramipexole', 'pravastatin', 'prednicen-m', 'proketazine', 'promethacon', 'promethegan', 'propafenone', 'prostaphlin', 'pylori-chek', 'rilpivirine', 'rimantadine', 'risperidone', 'rivaroxaban', 'rizatriptan', 'roflumilast', 'sapropterin', 'saxagliptin', 'scopolamine', 'sevoflurane', 'simvastatin', 'solifenacin', 'somophyllin', 'stilbestrol', 'sulfacel-15', 'synalgos-dc', 'synophylate', 'tasimelteon', 'terbinafine', 'terbutaline', 'theolair-sr', 'theophyl-sr', 'thioguanine', 'thyro-block', 'thyroshield', 'ticlopidine', 'tioconazole', 'tofranil-pm', 'tolbutamide', 'tolterodine', 'topicycline', 'trichlormas', 'trivagizole', 'tropicamide', 'truphylline', 'venlafaxine', 'voltaren-xr', 'wellcovorin', 'zafirlukast', 'achromycin', 'aeroseb-hc', 'akne-mycin', 'alphacaine', 'alprazolam', 'amantadine', 'amcinonide', 'amiodarone', 'ampicillin', 'anagrelide', 'apremilast', 'aprepitant', 'apresazide', 'apresoline', 'aquatensen', 'aristocort', 'azilsartan', 'balneol-hc', 'balziva-21', 'balziva-28', 'benazepril', 'benoxinate', 'benzamycin', 'benzedrine', 'betapen-vk', 'bexarotene', 'biltricide', 'bromfed-dm', 'brompheril', 'bronchitol', 'bucladin-s', 'bumetanide', 'butalbital', 'calcitriol', 'cap-profen', 'carbidopa,', 'cefadroxil', 'cefuroxime', 'cephalexin', 'cephradine', 'cetrorelix', 'cevimeline', 'chlorofair', 'ciclopirox', 'cimetidine', 'cinacalcet', 'clarinex-d', 'clemastine', 'clenz-lyte', 'clofibrate', 'clonazepam', 'clorotekal', 'colbenemid', 'colchicine', 'colestipol', 'coly-mycin', 'combipatch', 'constulose', 'cyclapen-w', 'cystadrops', 'dabigatran', 'dantrolene', 'declomycin', 'delta-dome', 'dentipatch', 'desflurane', 'dexasporin', 'dextrostat', 'didanosine', 'dienestrol', 'diflunisal', 'dipivefrin', 'disulfiram', 'divalproex', 'dofetilide', 'dronabinol', 'duloxetine', 'econochlor', 'edarbyclor', 'eletriptan', 'eliglustat', 'endometrin', 'entacapone', 'epinastine', 'eplerenone', 'eprosartan', 'ergotamine', 'erythrocin', 'esgic-plus', 'esterified', 'estraguard', 'ethacrynic', 'ethambutol', 'ethynodiol', 'etidronate', 'etravirine', 'euthroid-1', 'euthroid-2', 'euthroid-3', 'everolimus', 'exemestane', 'famotidine', 'febuxostat', 'felodipine', 'fenoprofen', 'fingolimod', 'flecainide', 'fluoroplex', 'flurazepam', 'formoterol', 'fosfomycin', 'furadantin', 'furosemide', 'gastrocrom', 'gastrovist', 'gentacidin', 'gentamicin', 'glucovance', 'gynazole-1', 'halflytely', 'halotestin', 'hydra-zide', 'hydro-ride', 'hydro-serp', 'indapamide', 'intermezzo', 'iontocaine', 'irrigating', 'isoflurane', 'ivabradine', 'ivermectin', 'kayexalate', 'ketoprofen', 'lac-hydrin', 'lacosamide', 'lanabiotic', 'lenvatinib', 'leucovorin', 'lisinopril', 'livtencity', 'lo-blisovi', 'lopinavir;', 'lorcaserin', 'lumenhance', 'macitentan', 'maxzide-25', 'mellaril-s', 'meperidine', 'mesalamine', 'metaxalone', 'methergine', 'meticorten', 'metolazone', 'metopirone', 'metrocream', 'metromidol', 'metyrosine', 'mexiletine', 'mirabegron', 'modrastane', 'mometasone', 'morphabond', 'moxidectin', 'mucosil-10', 'mucosil-20', 'mycifradin', 'mycitracin', 'mycolog-ii', 'mydriafair', 'nabumetone', 'naltrexone', 'nedocromil', 'nefazodone', 'neo-cortef', 'neo-fradin', 'nifedipine', 'nilutamide', 'nimodipine', 'nintedanib', 'nitisinone', 'nizatidine', 'norgestrel', 'obestin-30', 'ocusulf-10', 'olanzapine', 'ophthocort', 'ortho-cept', 'pediamycin', 'penapar-vk', 'permethrin', 'persantine', 'pertofrane', 'physiolyte', 'polycillin', 'pregabalin', 'pretomanid', 'prexxartan', 'proamatine', 'proctocort', 'proctofoam', 'prometrium', 'quetiapine', 'quillivant', 'quinaglute', 'raloxifene', 'ranitidine', 'ranolazine', 'rasagiline', 'reserpine,', 'ribasphere', 'ritalin-sr', 'rondomycin', 'ropinirole', 'roxicodone', 'rufinamide', 's.a.s.-500', 'salutensin', 'sandimmune', 'seasonique', 'segluromet', 'selegiline', 'septi-soft', 'sertraline', 'sildenafil', 'sinografin', 'sofosbuvir', 'somatuline', 'sorbitrate', 'spectazole', 'spectracef', 'statobex-g', 'sucralfate', 'sulfair-15', 'sulfamylon', 'synalar-hp', 'synkayvite', 'synovalyte', 'syntocinon', 'tab-profen', 'tacrolimus', 'tafluprost', 'tamsulosin', 'tapentadol', 'tavaborole', 'tazarotene', 'technetium', 'theroxidil', 'thiosulfil', 'thyro-tabs', 'thyrolar-1', 'thyrolar-2', 'thyrolar-3', 'thyrolar-5', 'tinidazole', 'tolazamide', 'topiramate', 'toremifene', 'totacillin', 'tranexamic', 'travoprost', 'tri-legest', 'tri-linyah', 'trialodine', 'trichlorex', 'tridesilon', 'trintellix', 'trisoralen', 'trivora-21', 'tropicacyl', 'vagistat-1', 'valrelease', 'valrubicin', 'valsartan;', 'vardenafil', 'versapen-k', 'vibra-tabs', 'vibramycin', 'vicoprofen', 'vigabatrin', 'vilazodone', 'visionblue', 'zestoretic', 'zidovudine', 'zonisamide', 'botox', 'calan', 'coreg', 'ddavp', 'doryx', 'gvoke', 'luvox', 'opana', 'orlex', 'paxil', 'vosol', 'xenon', 'zerit', 'zyflo', 'ablysinol', 'accurbron', 'acitretin', 'actimmune', 'acyclovir', 'afirmelle', 'ala-scalp', 'albamycin', 'aldactone', 'alfuzosin', 'aliskiren', 'allernaze', 'alosetron', 'alphaderm', 'alphadrol', 'alphazine', 'altafluor', 'alvimopan', 'amiloride', 'amlexanox', 'amoxapine', 'anafranil', 'android-f', 'anestacon', 'aristogel', 'arthrotec', 'athrombin', 'atromid-s', 'avandamet', 'avandaryl', 'aviane-21', 'aviane-28', 'bactocill', 'bactroban', 'bafiertam', 'balcoltra', 'barstatin', 'beclovent', 'bendectin', 'benzaclin', 'besivance', 'betaprone', 'betaseron', 'betaxolol', 'bilopaque', 'blocadren', 'brethaire', 'brisdelle', 'bromanate', 'bronkodyl', 'bronkosol', 'buspirone', 'c-solve-2', 'cabometyx', 'calquence', 'carbachol', 'carbastat', 'carglumic', 'carteolol', 'cefprozil', 'celecoxib', 'celestone', 'cerumenex', 'cetrotide', 'chabelina', 'chronulac', 'cida-stat', 'clindagel', 'clindesse', 'clozapine', 'combivent', 'compazine', 'constilac', 'cordarone', 'cort-dome', 'cortifoam', 'cortisone', 'covera-hs', 'cromoptic', 'danocrine', 'darunavir', 'dasatinib', 'delstrigo', 'deltasone', 'dermacort', 'dexacidin', 'dexedrine', 'dextroamp', 'di-metrex', 'diabinese', 'dicumarol', 'diprosone', 'disophrol', 'dispermox', 'diucardin', 'dolishale', 'doxazosin', 'e-z-paque', 'econazole', 'econopred', 'emete-con', 'emoquette', 'enduronyl', 'enflurane', 'entecavir', 'epidiolex', 'ergamisol', 'erlotinib', 'estarylla', 'estazolam', 'estraderm', 'estrasorb', 'ethmozine', 'etoposide', 'etrafon-a', 'extraneal', 'fernisone', 'ferriprox', 'flavoxate', 'flexicort', 'floropryl', 'fluothane', 'fortovase', 'fungizone', 'gantrisin', 'garamycin', 'gefitinib', 'geocillin', 'gleostine', 'glucamide', 'glyburide', 'glycoprep', 'grifulvin', 'grisactin', 'guanabenz', 'gyne-sulf', 'halothane', 'helicosol', 'hexa-germ', 'hexascrub', 'homapin-5', 'hycofenix', 'hydergine', 'hydramine', 'hydrap-es', 'hydropane', 'icosapent', 'imiquimod', 'intelence', 'introvale', 'inversine', 'isoniazid', 'ivacaftor', 'kapspargo', 'kenalog-h', 'ketotifen', 'koglucoid', 'krintafel', 'labetalol', 'lacrisert', 'lactulose', 'lanorinal', 'lantrisul', 'lapatinib', 'lastacaft', 'libervant', 'libritabs', 'lithonate', 'lithostat', 'lithotabs', 'lopinavir', 'lorcet-hd', 'magnacort', 'malathion', 'malmorede', 'maraviroc', 'mavenclad', 'maxibolin', 'meclizine', 'meclodium', 'medigesic', 'mefenamic', 'megestrol', 'meloxicam', 'melphalan', 'memantine', 'menadione', 'mentax-tc', 'meprospan', 'metandren', 'methampex', 'micort-hc', 'micrainin', 'micronase', 'midazolam', 'midodrine', 'milophene', 'minastrin', 'minivelle', 'miochol-e', 'modafinil', 'moexipril', 'monobasic', 'motegrity', 'multifuge', 'mupirocin', 'myambutol', 'mycelex-g', 'mycobutin', 'mydriacyl', 'nalidixic', 'nebivolol', 'neosporin', 'neptazane', 'neratinib', 'neuramate', 'neurontin', 'nexplanon', 'niclocide', 'nilandron', 'nilotinib', 'nitrogen,', 'nitromist', 'nitrostat', 'norcept-e', 'norminest', 'normozide', 'norpramin', 'numorphan', 'nutracort', 'nystaform', 'ofloxacin', 'ontruzant', 'ophthaine', 'ophthetic', 'optomycin', 'orenitram', 'ortho-est', 'otobiotic', 'ovulen-21', 'ovulen-28', 'oxaprozin', 'oxsoralen', 'palladone', 'pancreaze', 'panwarfin', 'paracaine', 'paradione', 'paredrine', 'paskalium', 'pediapred', 'pediatric', 'pegintron', 'penbritin', 'penthrane', 'pentolair', 'pentothal', 'percorten', 'pergolide', 'periactin', 'periochip', 'periogard', 'phenazine', 'phenetron', 'phenurone', 'piroxicam', 'plaquenil', 'poly-pred', 'portia-21', 'portia-28', 'pramosone', 'prandimet', 'prasugrel', 'pravigard', 'prefrin-a', 'presamine', 'prevacare', 'prevalite', 'primidone', 'proleukin', 'proloprim', 'pronestyl', 'protostat', 'proventil', 'qualaquin', 'quartette', 'quibron-t', 'quinatime', 'rauserpin', 'rautensin', 'rauwiloid', 'readyprep', 'renacidin', 'rifabutin', 'rimactane', 'riociguat', 'ritonavir', 'robaxisal', 'robimycin', 'rocklatan', 'rozlytrek', 'sclerosol', 'scrubteam', 'seglentis', 'selexipag', 'selzentry', 'semprex-d', 'ser-ap-es', 'seromycin', 'serophene', 'serpanray', 'serpivite', 'servisone', 'silodosin', 'singulair', 'sirolimus', 'soolantra', 'sorafenib', 'soriatane', 'stanozide', 'stavudine', 'steglatro', 'steglujan', 'steritalc', 'strattera', 'striverdi', 'sulfaloid', 'sulten-10', 'sunitinib', 'surmontil', 'symbicort', 'symmetrel', 'synthetic', 'synthroid', 'tadalafil', 'tamoxifen', 'tandearil', 'targretin', 'tecfidera', 'technivie', 'telepaque', 'temazepam', 'tenofovir', 'tenoretic', 'terazosin', 'tetrachel', 'thalitone', 'theochron', 'theolixir', 'thorazine', 'thyrosafe', 'tiagabine', 'tiopronin', 'tis-u-sol', 'tobrasone', 'tolcapone', 'tolvaptan', 'tornalate', 'trancopal', 'trazodone', 'tretinoin', 'triacin-c', 'tribenzor', 'trileptal', 'trilitron', 'truseltiq', 'tussicaps', 'tussionex', 'tylox-325', 'unitensen', 'uticillin', 'valsartan', 'vandazole', 'vaseretic', 'vasocidin', 'vasocon-a', 'verapamil', 'versacloz', 'victrelis', 'vigadrone', 'viskazide', 'vistogard', 'vitrasert', 'westadone', 'wigrettes', 'xylo-pfan', 'zithromax', 'zolpimist', 'zomig-zmt', 'zontivity', 'zypitamag', 'absorica', 'acarbose', 'accolate', 'accrufer', 'accutane', 'aclovate', 'actahist', 'acticort', 'actigall', 'actisite', 'activase', 'adefovir', 'adhansia', 'adipex-p', 'adlarity', 'aerolone', 'aerospan', 'afeditab', 'aggrenox', 'alecensa', 'alkergot', 'allerfed', 'allzital', 'alphalin', 'altavera', 'aluminum', 'ammonium', 'amvuttra', 'androgel', 'anhydron', 'annovera', 'antivert', 'antrenyl', 'anturane', 'aplenzin', 'aptensio', 'aranelle', 'arcalyst', 'arimidex', 'aromasin', 'aspruzyo', 'astagraf', 'athentia', 'atropine', 'atrovent', 'auvelity', 'axitinib', 'azmacort', 'azstarys', 'baclofen', 'balanced', 'balversa', 'banthine', 'basaglar', 'beconase', 'belrapzo', 'belsomra', 'benadryl', 'benoquin', 'beta-val', 'betaderm', 'betadine', 'betatrex', 'bicillin', 'bilivist', 'bioscrub', 'bleph-30', 'borofair', 'braftovi', 'briellyn', 'briviact', 'bromanyl', 'bromsite', 'bronitin', 'bunavail', 'butabarb', 'buticaps', 'bynfezia', 'bystolic', 'byvalson', 'cafergot', 'caffeine', 'calderol', 'calomist', 'camoquin', 'caprelsa', 'carafate', 'carbaglu', 'carbilev', 'cardrase', 'carnitor', 'carospir', 'cataflam', 'catapres', 'cefaclor', 'cefdinir', 'cefixime', 'cellcept', 'cenestin', 'cephulac', 'cervidil', 'cetacort', 'cetamide', 'cetapred', 'cetraxal', 'choledyl', 'choloxin', 'cholybar', 'cinnasil', 'ciprodex', 'circanol', 'claravis', 'clindets', 'clorpres', 'clovique', 'cloxapen', 'clozaril', 'co-gesic', 'codamine', 'codeprex', 'cogentin', 'colestid', 'colocort', 'colonaid', 'colovage', 'combigan', 'combivir', 'complera', 'compound', 'concerta', 'condylox', 'conjupri', 'consensi', 'copiktra', 'corlanor', 'cotellic', 'cresemba', 'crixivan', 'cryselle', 'curosurf', 'cyclaine', 'cyclessa', 'cyclogyl', 'cyclopar', 'cycloset', 'cymbalta', 'cystagon', 'cystaran', 'cytadren', 'cytovene', 'daklinza', 'daliresp', 'dantrium', 'daranide', 'daraprim', 'dartisla', 'darvocet', 'daurismo', 'daytrana', 'decaderm', 'decadron', 'decapryn', 'del-vi-a', 'deltalin', 'delzicol', 'depakene', 'dermotic', 'desonate', 'desonide', 'detroamp', 'dexacort', 'dexampex', 'dexilant', 'dextenza', 'diclegis', 'didronel', 'differin', 'diflucan', 'dionosil', 'disobrom', 'doptelet', 'dostinex', 'doxychel', 'dralserp', 'dralzine', 'drizalma', 'duphalac', 'duradyne', 'duraphyl', 'duraprep', 'dutoprol', 'dyclopro', 'dyrenium', 'eldecort', 'eldepryl', 'elestrin', 'elifemme', 'elixicon', 'elixomin', 'embeline', 'empaveli', 'empracet', 'enstilar', 'entocort', 'entresto', 'envarsus', 'eprontia', 'ergoloid', 'ergostat', 'erivedge', 'erycette', 'estrogel', 'estrovis', 'ethamide', 'euthyrox', 'excedrin', 'exelderm', 'exkivity', 'exservan', 'extended', 'fallback', 'fansidar', 'fareston', 'felbatol', 'feminone', 'fempatch', 'femtrace', 'fensolvi', 'fentanyl', 'fibricor', 'fintepla', 'firmagon', 'flexeril', 'flo-pred', 'flolipid', 'florinef', 'flowtuss', 'fluor-op', 'foamcoat', 'forbaxin', 'fortamet', 'fortesta', 'fortical', 'fosrenol', 'furoxone', 'gabitril', 'galafold', 'gamophen', 'gaviscon', 'gelnique', 'gen-xene', 'generlac', 'genoptic', 'gildagia', 'gilotrif', 'givlaari', 'gloperba', 'glumetza', 'glycolax', 'golytely', 'goprelto', 'granisol', 'gris-peg', 'gynodiol', 'gynorest', 'habitrol', 'haldrone', 'haloette', 'harmonyl', 'heptalac', 'hexadrol', 'hiserpia', 'histafed', 'hiwolfia', 'horizant', 'hygroton', 'hyserpin', 'hysingla', 'idkit:hp', 'imatinib', 'imcivree', 'impavido', 'implanon', 'incassia', \"infant's\", \"infants'\", 'infasurf', 'ingrezza', 'innopran', 'inveltys', 'invirase', 'invokana', 'iodotope', 'isibloom', 'isturisa', 'jantoven', 'jencycla', 'juvisync', 'jynarque', 'kalexate', 'kalydeco', 'kanjinti', 'karbinal', 'katerzia', 'kemadrin', 'kenacort', 'kerendia', 'kerledex', 'kesimpta', 'khedezla', 'kimidess', 'kloromin', 'kloxxado', 'koselugo', 'kovanaze', 'kyzatrex', 'lactated', 'laniazid', 'larodopa', 'lax-lyte', 'laxilose', 'leribane', 'leritine', 'letairis', 'leukeran', 'levaquin', 'levonest', 'lidoderm', 'lidosite', 'lincocin', 'lioresal', 'lipiodol', 'liquamar', 'lithobid', 'livmarli', 'livostin', 'lomanate', 'losartan', 'lotronex', 'lotusate', 'low-quel', 'loxapine', 'loxitane', 'lucemyra', 'ludiomil', 'lumizyme', 'lupkynis', 'lypqozet', 'lyvispah', 'macrilen', 'macrobid', 'matulane', 'maxaquin', 'measurin', 'meclomen', 'medipren', 'mekinist', 'melamisa', 'mellaril', 'menostar', 'mestinon', 'metaglip', 'metozolv', 'metreton', 'metrogel', 'micronor', 'microsul', 'mifeprex', 'migergot', 'miglitol', 'migranal', 'milprosa', 'minitran', 'minizide', 'minolira', 'mintezol', 'mircette', 'mitigare', 'moctanin', 'monopril', 'morphine', 'mounjaro', 'movantik', 'moviprep', 'mucomyst', 'mulpleta', 'mycapssa', 'myfortic', 'mylotarg', 'myorisan', 'myoscint', 'mysoline', 'mytelase', 'nafazair', 'namzaric', 'naprelan', 'naprosyn', 'naquival', 'nasalide', 'nascobal', 'nayzilam', 'nebupent', 'nembutal', 'neulasta', 'nexiclon', 'nexletol', 'nexlizet', 'nicoderm', 'nicotrol', 'nivestym', 'noritate', 'norliqva', 'norlutin', 'norplant', 'norquest', 'nourianz', 'noxivent', 'nuedexta', 'nulytely', 'numbrino', 'nuplazid', 'nuvaring', 'nydrazid', 'nymalize', 'oby-trim', 'ocuclear', 'ocumycin', 'ocupress', 'olumiant', 'ona-mast', 'oncaspar', 'ongentys', 'opticrom', 'optimine', 'opzelura', 'oramorph', 'orilissa', 'orladeyo', 'orsythia', 'osmoprep', 'otobione', 'ovcon-50', 'ovral-28', 'oxandrin', 'oxervate', 'oxtellar', 'pacerone', 'pagitane', 'panixine', 'panmycin', 'panretin', 'paracort', 'paraflex', 'paragard', 'parlodel', 'parsidol', 'patanase', 'pathocil', 'peg-lyte', 'peganone', 'pemazyre', 'pemoline', 'penecort', 'penetrex', 'pennsaid', 'penntuss', 'pentoxil', 'percocet', 'percodan', 'permitil', 'perseris', 'phenytex', 'pifeltro', 'pilopine', 'pimozide', 'pirmella', 'placidyl', 'plegisol', 'pliaglis', 'polytrim', 'pomalyst', 'portalac', 'povidone', 'prazosin', 'pre-sate', 'prepidil', 'prepopik', 'prevymis', 'prezista', 'prinivil', 'prinzide', 'proben-c', 'procapan', 'procysbi', 'profenal', 'prolensa', 'prolixin', 'promacta', 'propacet', 'propecia', 'prophene', 'protonix', 'protopam', 'protopic', 'provigil', 'pur-wash', 'pyocidin', 'pyrukynd', 'qternmet', 'quasense', 'quinalan', 'quinidex', 'radicava', 'ramipril', 'raniclor', 'rapamune', 'raudixin', 'rayaldee', 'recorlev', 'reditrex', 'regranex', 'regroton', 'relexxii', 'relistor', 'relyvrio', 'remicade', 'renese-r', 'renoquid', 'renormax', 'resporal', 'restoril', 'retavase', 'retrovir', 'revlimid', 'rezurock', 'rifamate', 'rifampin', 'riluzole', 'rimso-50', \"ringer's\", 'roxiprin', 'roxybond', 'ryaltris', 'rybelsus', 'salonpas', 'scemblix', 'scenesse', 'selfemra', 'sensipar', 'septisol', 'serentil', 'serevent', 'serpasil', 'setlakin', 'sfrowasa', 'signifor', 'simpesse', 'simulect', 'sine-aid', 'sinequan', 'sivextro', 'skelaxin', 'solaraze', 'soltamox', 'soluprep', 'sonazine', 'sotylize', 'soxazole', 'soy-dome', 'spinraza', 'sporanox', 'spravato', 'sprintec', 'sprx-105', 'staticin', 'statobex', 'stivarga', 'sulfalar', 'sulindac', 'sulphrin', 'suprenza', 'surfaxin', 'survanta', 'sustaire', 'symadine', 'sympazan', 'synacort', 'synjardy', 'taclonex', 'tafinlar', 'tagrisso', 'takhzyro', 'tambocor', 'tapazole', 'taractan', 'tascenso', 'tavist-1', 'taytulla', 'tazverik', 'teebacin', 'tegretol', 'tenathan', 'tenormin', 'tepmetko', 'terfonyl', 'testopel', 'tetracyn', 'tetramed', 'texacort', 'thalomid', 'theolair', 'theophyl', 'tiglutik', 'timolide', 'tindamax', 'tivorbex', 'tofranil', 'tolinase', 'tolmetin', 'tracleer', 'trecator', 'tri-luma', 'tri-mili', 'triacort', 'triaprin', 'tridione', 'triglide', 'trijardy', 'trikafta', 'trilafon', 'trizivir', 'trokendi', 'trospium', 'trudhesa', 'tuzistra', 'ultracef', 'ultracet', 'uniretic', 'urocit-k', 'urologic', 'ursodiol', 'valisone', 'valturna', 'vancocin', 'vancoled', 'vantrela', 'vapo-iso', 'vazalore', 'vectical', 'ventaire', 'ventavis', 'veraring', 'veriloid', 'verkazia', 'vermidol', 'vertavis', 'verzenio', 'vesanoid', 'vesicare', 'vi-dom-a', 'vicoprin', 'virazole', 'viroptic', 'vistaril', 'vitrakvi', 'vivlodex', 'vizimpro', 'vocabria', 'voquezna', 'votrient', 'vumerity', 'vyndamax', 'vyndaqel', 'warfarin', 'wigraine', 'winstrol', 'xaracoll', 'xartemis', 'xelstrym', 'xenazine', 'xultophy', 'yosprala', 'zaleplon', 'zanaflex', 'zarontin', 'zelboraf', 'zembrace', 'zenatane', 'zepatier', 'zileuton', 'zolpidem', 'zonisade', 'zorvolex', 'zuragard', 'zurampic', 'zynrelef', 'axid', 'cold', 'kaon', 'olux', 'pred', 'qvar', 'tobi', 'abilify', 'abstral', 'accuneb', 'acephen', 'actidil', 'actifed', 'actin-n', 'actinex', 'acuvail', 'adasuve', 'adcirca', 'adempas', 'adlyxin', 'aemcolo', 'aerobid', 'afrezza', 'afrinol', 'agrylin', 'akynzeo', 'alamast', 'albenza', 'alcaine', 'aldomet', 'alferon', 'alkindi', 'alocril', 'alomide', 'altabax', 'altreno', 'alupent', 'alvesco', 'amabelz', 'ambenyl', 'amitril', 'amosene', 'angeliq', 'antepar', 'anzemet', 'aptivus', 'aquasol', 'arakoda', 'aranesp', 'arcapta', 'arestin', 'asendin', 'ashlyna', 'asmanex', 'aspirin', 'astelin', 'atelvia', 'atralin', 'atridox', 'atripla', 'auryxia', 'austedo', 'avaclyr', 'avagard', 'avalide', 'avandia', 'avodart', 'ayvakit', 'azelaic', 'azilect', 'baci-rx', 'baxdela', 'bekyree', 'belbuca', 'bendeka', 'bendopa', 'benemid', 'benicar', 'benylin', 'bepreve', 'beta-hc', 'betagan', 'betaine', 'betapar', 'betaxon', 'betimol', 'bevespi', 'bevyxxa', 'binosto', 'bismuth', 'bonsity', 'bontril', 'bosulif', 'breztri', 'broncho', 'brovana', 'bryhali', 'butalan', 'butapap', 'butisol', 'butrans', 'calcium', 'campral', 'camzyos', 'caplyta', 'capoten', 'cardura', 'cartrol', 'cassipa', 'cathflo', 'cayston', 'centrax', 'cesamet', 'cetylev', 'chantix', 'cholbam', 'cibinqo', 'ciloxan', 'cinobac', 'clenpiq', 'clistin', 'cloderm', 'codeine', 'colcrys', 'colgate', 'copegus', 'corgard', 'corphed', 'cortone', 'cortril', 'corzide', 'crestor', 'crinone', 'cuvrior', 'cyonanz', 'cysview', 'cytomel', 'cytotec', 'cytoxan', 'dalmane', 'daricon', 'dayvigo', 'decabid', 'delaxin', 'demadex', 'denavir', 'descovy', 'desowen', 'desoxyn', 'desyrel', 'di-atro', 'dibenil', 'dicopac', 'dificid', 'digoxin', 'dilacor', 'dilt-cd', 'disipal', 'disomer', 'divigel', 'dojolvi', 'dolobid', 'doriden', 'dormate', 'dovonex', 'doxepin', 'drisdol', 'duaklir', 'duetact', 'duobrii', 'durysta', 'dyazide', 'dymelor', 'dymista', 'dynabac', 'dynacin', 'dynapen', 'e-mycin', 'e-solve', 'e-z-cat', 'edecrin', 'edurant', 'egrifta', 'elepsia', 'elestat', 'elimite', 'elinest', 'eliphos', 'eliquis', 'elmiron', 'eluryng', 'emflaza', 'emtriva', 'enablex', 'enduron', 'enjuvia', 'enskyce', 'entadfi', 'entereg', 'enulose', 'epanova', 'epicort', 'epsolay', 'equanil', 'equetro', 'ergomar', 'erleada', 'ertaczo', 'eryderm', 'eryzole', 'esbriet', 'esidrix', 'estrace', 'estring', 'ethrane', 'eucrisa', 'eulexin', 'eutonyl', 'evalose', 'evamist', 'evoclin', 'exforge', 'exidine', 'exosurf', 'factive', 'falmina', 'farydak', 'fayosim', 'fazaclo', 'femogen', 'femring', 'femstat', 'fentora', 'ferrous', 'fetzima', 'finacea', 'finzala', 'firvanq', 'flector', 'fluocet', 'fluonid', 'focalin', 'folvite', 'forfivo', 'fotivda', 'fyavolv', 'fycompa', 'gemmily', 'gemonil', 'gemtesa', 'genapax', 'gengraf', 'genvoya', 'gerimal', 'gilenya', 'gleolan', 'glycort', 'glynase', 'gocovri', 'gonitro', 'gralise', 'h.r.-50', 'halcion', 'halog-e', 'halotex', 'harvoni', 'heather', 'hedulin', 'helidac', 'helium,', 'hepsera', 'herplex', 'hexalen', 'hispril', 'humalog', 'humatin', 'hy-phen', 'hycodan', 'hydro-d', 'hylorel', 'hypaque', 'ibsrela', 'ilosone', 'imagent', 'impeklo', 'imvexxy', 'inbrija', 'incivek', 'incruse', 'innofem', 'inrebic', 'intuniv', 'ionamin', 'ismelin', 'isoclor', 'isoptin', 'isordil', 'istalol', 'jadelle', 'januvia', 'jatenzo', 'jelmyto', 'k-lease', 'kafocin', 'kaitlib', 'kaletra', 'kalliga', 'kantrex', 'kemstro', 'kerlone', 'kerydin', 'keveyis', 'kisqali', 'kitabis', 'klisyri', 'klotrix', 'kurvelo', 'kybella', 'kyleena', 'kynamro', 'kynmobi', 'lanoxin', 'larotid', 'latisse', 'lazanda', 'lenvima', 'levatol', 'levitra', 'levolet', 'levoxyl', 'levulan', 'lexapro', 'lexette', 'librium', 'lidex-e', 'liletta', 'lindane', 'lipidil', 'lipitor', 'lithane', 'lo-trol', 'logilia', 'lokelma', 'lomaira', 'lomotil', 'lonhala', 'loniten', 'lonsurf', 'lopurin', 'lorabid', 'lorelco', 'lotemax', 'lumigan', 'lunesta', 'lybalvi', 'lynoral', 'lytgobi', 'maolate', 'marinol', 'marplan', 'mavyret', 'maxidex', 'maxolon', 'maxzide', 'mayzent', 'mazanor', 'medical', 'mektovi', 'melfiat', 'meretek', 'mevacor', 'mexitil', 'mibelas', 'midamor', 'miltown', 'minirin', 'minocin', 'miochol', 'miostat', 'miradon', 'miralax', 'mirvaso', 'moderil', 'modicon', 'monodox', 'monoket', 'monurol', 'moxatag', 'mozobil', 'mydayis', 'mykacet', 'mykinac', 'myobloc', 'namenda', 'nasarel', 'natacyn', 'natazia', 'natroba', 'navstel', 'neggram', 'nerlynx', 'nevanac', 'nexavar', 'nexcede', 'nexesta', 'nicolar', 'nilstat', 'nimotop', 'ninlaro', 'niravam', 'nitrous', 'nogenic', 'noludar', 'norflex', 'noroxin', 'norvasc', 'novafed', 'nuvessa', 'ocaliva', 'ocuflox', 'ocusert', 'oleptro', 'omidria', 'omlonti', 'omnaris', 'omnipen', 'onexton', 'onglyza', 'onsolis', 'onzetra', 'opcicon', 'opcon-a', 'opsumit', 'optivar', 'orabase', 'oralone', 'oraltag', 'orasone', 'orgovyx', 'orinase', 'orkambi', 'ortikos', 'oruvail', 'osmolex', 'osphena', 'otocort', 'otrexup', 'oxbryta', 'oxygen,', 'oxylone', 'ozempic', 'pamelor', 'parafon', 'parcopa', 'paremyd', 'parnate', 'paxipam', 'pegasys', 'pen-vee', 'peridex', 'perjeta', 'philith', 'pizensy', 'plegine', 'poly-rx', 'polymox', 'ponvory', 'posimir', 'pradaxa', 'pramine', 'precose', 'prefest', 'prelone', 'prevpac', 'priftin', 'pristiq', 'procomp', 'prograf', 'proklar', 'prometa', 'propine', 'proquin', 'proscar', 'prostep', 'provera', 'psorcon', 'purixan', 'qelbree', 'qinlock', 'qoliana', 'quarzan', 'quinact', 'quinine', 'quinora', 'qulipta', 'qutenza', 'quviviq', 'rebetol', 'relafen', 'relenza', 'releuko', 'remeron', 'renagel', 'reno-30', 'renvela', 'rescula', 'retin-a', 'revatio', 'rexulti', 'rezulin', 'rhuzdah', 'ridaura', 'rifadin', 'rifater', 'rimadyl', 'rimifon', 'ritalin', 'rituxan', 'robaxin', 'robinul', 'robitet', 'roxilox', 'rozerem', 'ryzodeg', 'safyral', 'salagen', 'saluron', 'sancuso', 'sandril', 'sanorex', 'sansert', 'saphris', 'sarafem', 'savaysa', 'savella', 'saxenda', 'scabene', 'sectral', 'secuado', 'sedapap', 'sernivo', 'serpate', 'serzone', 'seysara', 'silenor', 'silphen', 'simliya', 'sinemet', 'sirturo', 'slo-bid', 'sogroya', 'sojourn', 'soliqua', 'solodyn', 'solosec', 'sorilux', 'sotyktu', 'sovaldi', 'sparine', 'spiriva', 'spritam', 'sprycel', 'starlix', 'statrol', 'stavzor', 'sterane', 'stiolto', 'striant', 'strifon', 'subutex', 'suclear', 'sucraid', 'sulf-10', 'sulf-15', 'sulfose', 'sumycin', 'suprane', 'sustiva', 'symtuza', 'synagis', 'synalar', 'synarel', 'syndros', 'synribo', 'syprine', 'tacaryl', 'talacen', 'talicia', 'tamiflu', 'tarceva', 'tarpeyo', 'tasigna', 'tatum-t', 'tavneos', 'tazorac', 'tegison', 'tegopen', 'tegsedi', 'tekamlo', 'teldrin', 'temaril', 'tembexa', 'temixys', 'temodar', 'tepanil', 'testred', 'theo-24', 'tiamate', 'tibsovo', 'tikosyn', 'timolol', 'tivicay', 'tolsura', 'topamax', 'toradol', 'torecan', 'tosymra', 'tranmep', 'travase', 'treanda', 'trelegy', 'trental', 'trexall', 'triacet', 'trianex', 'triatex', 'triclos', 'triderm', 'triphed', 'triumeq', 'trusopt', 'truvada', 'tuxarin', 'twynsta', 'tyblume', 'tycolet', 'tyrvaya', 'ubrelvy', 'ucephan', 'ulesfia', 'unipres', 'uptravi', 'urispas', 'uroplus', 'urovist', 'utibron', 'uticort', 'vagifem', 'vagilia', 'valcyte', 'valstar', 'valtoco', 'valtrex', 'vascepa', 'vasocon', 'vasotec', 'veltane', 'vepesid', 'vercyte', 'verdeso', 'veregen', 'verelan', 'verquvo', 'vesprin', 'viberzi', 'vicodin', 'victoza', 'viekira', 'vigamox', 'viibryd', 'viokace', 'viorele', 'virilon', 'visicol', 'vitekta', 'vogelxo', 'vospire', 'voxzogo', 'vraylar', 'vyleesi', 'vytorin', 'vyvanse', 'vyzulta', 'welireg', 'winlevi', \"women's\", 'wygesic', 'wynzora', 'xaciato', 'xalatan', 'xalkori', 'xeglyze', 'xelpros', 'xenical', 'xermelo', 'xifaxan', 'xofluza', 'xolegel', 'xtrelus', 'xuriden', 'yupelri', 'yutopar', 'zaditor', 'zavesca', 'zaxopam', 'zecuity', 'zeposia', 'zestril', 'ziba-rx', 'zioptan', 'zohydro', 'zokinvy', 'zonalon', 'zovirax', 'zubsolv', 'zyclara', 'zydelig', 'zymaxid', '8-hour', 'abreva', 'acanya', 'acilac', 'acuvue', 'aczone', 'adphen', 'afaxin', 'airduo', 'akbeta', 'aklief', 'alaway', 'alesse', 'alvaiz', 'amaryl', 'ambien', 'amicar', 'amitid', 'amoxil', 'ampyra', 'amzeeq', 'ansaid', 'anspor', 'antara', 'anusol', 'apadaz', 'aptiom', 'arazlo', 'aridol', 'asacol', 'asbron', 'atarax', 'ativan', 'avelox', 'avinza', 'axotal', 'azasan', 'azdone', 'azelex', 'azolid', 'bamate', 'bancap', 'banzel', 'baycol', 'beldin', 'bentyl', 'benzyl', 'beta-2', 'bextra', 'biaxin', 'boniva', 'breyna', 'bryrel', 'buspar', 'bylvay', 'caduet', 'cafcit', 'cambia', 'camila', 'canasa', 'candex', 'cantil', 'carbon', 'carmol', 'cartia', 'cefzil', 'celexa', 'chenix', 'cholac', 'cialis', 'cimduo', 'citric', 'clobex', 'clomid', 'clopra', 'codoxy', 'cognex', 'compro', 'comtan', 'conzip', 'cormax', 'cortan', 'cortef', 'cozaar', 'crolom', 'crotan', 'daypro', 'daysee', 'delfen', 'delsym', 'dexair', 'diamox', 'diapid', 'diphen', 'diuril', 'dolene', 'dovato', 'droxia', 'dsuvia', 'duavee', 'duexis', 'dulera', 'duoneb', 'duvoid', 'dycill', 'e-base', 'e-z-hd', 'ebanga', 'edarbi', 'edluar', 'efudex', 'egaten', 'elidel', 'elocon', 'elyxyb', 'emverm', 'enbrel', 'enovid', 'entero', 'epitol', 'ermeza', 'erygel', 'erymax', 'eryped', 'esimil', 'eskata', 'eutron', 'evotaz', 'evoxac', 'exalgo', 'exelon', 'exjade', 'fabior', 'fanapt', 'fastin', 'femara', 'femcet', 'femcon', 'flagyl', 'flarex', 'fluxid', 'forteo', 'fovane', 'galzin', 'gamene', 'gattex', 'gentak', 'gimoti', 'glyset', 'h-cort', 'haldol', 'halfan', 'hemady', 'hi-cor', 'hiprex', 'hy-pam', 'hydrea', 'hyftor', 'hytrin', 'hyzaar', 'idhifa', 'iheezo', 'ilevro', 'inlyta', 'inomax', 'invega', 'ionsys', 'iressa', 'jornay', 'jublia', 'juluca', 'kadian', 'kapvay', 'kariva', 'kazano', 'keflet', 'keflex', 'keftab', 'kelnor', 'kemeya', 'kionex', 'klaron', 'korlym', 'kytril', 'lampit', 'lariam', 'latuda', 'leqvio', 'lescol', 'levo-t', 'levora', 'lexiva', 'lexxel', 'librax', 'livalo', 'locoid', 'loprox', 'lortab', 'loryna', 'lotrel', 'lovaza', 'lumify', 'lumryz', 'lybrel', 'm-zole', 'makena', 'maxair', 'maxalt', 'meclan', 'menest', 'mentax', 'mepron', 'merzee', 'mesnex', 'mirena', 'moxeza', 'multaq', 'mychel', 'mykrox', 'mytesi', 'mytrex', 'nalfon', 'narcan', 'nardil', 'navane', 'neo-rx', 'neopap', 'neoral', 'nesina', 'neupro', 'niacin', 'niacor', 'nikita', 'nor-qd', 'norcet', 'norvir', 'novrad', 'nubeqa', 'nuprin', 'nurtec', 'nuzyra', 'nysert', 'nystex', 'nystop', 'ocufen', 'odomzo', 'oforta', 'olysio', 'omacor', 'omtryg', 'onsura', 'onureg', 'oracea', 'oraqix', 'oravig', 'orlaam', 'otovel', 'ovulen', 'oxaydo', 'oxycet', 'ozobax', 'p.a.s.', 'pandel', 'paroex', 'penlac', 'permax', 'pexeva', 'phoslo', 'picato', 'pindac', 'piqray', 'plavix', 'plenvu', 'pletal', 'polmon', 'potiga', 'pre-op', 'pred-g', 'prelay', 'preven', 'prompt', 'proval', 'pylera', 'qsymia', 'qudexy', 'quixin', 'ranexa', 'rasuvo', 'rauval', 'relpax', 'remsed', 'renova', 'roszet', 'rowasa', 'rydapt', 'rytary', 'sabril', 'salpix', 'sansac', 'santyl', 'satric', 'seebri', 'selsun', 'siklos', 'sinuva', 'skelid', 'sklice', 'slow-k', 'soaanz', 'solage', 'sonorx', 'sorine', 'sotret', 'sprx-3', 'stadol', 'stoxil', 'subsys', 'sunosi', 'suprax', 'suprep', 'sutent', 'synera', 't-phyl', 't-stat', 'tadliq', 'talwin', 'tasmar', 'taztia', 'teslac', 'testim', 'tetrex', 'thiola', 'thrive', 'tiazac', 'ticlid', 'tilade', 'tindal', 'tlando', 'tnkase', 'tobrex', 'toviaz', 'tricor', 'trimox', 'trovan', 'trymex', 'trysul', 'tukysa', 'turgex', 'twirla', 'twyneo', 'tybost', 'tydemy', 'tymlos', 'tyvaso', 'tyzine', 'u-cort', 'uceris', 'uloric', 'ultram', 'unipen', 'unisom', 'upneeq', 'urobak', 'utimox', 'valium', 'valpin', 'vaniqa', 'vantas', 'vantin', 'varubi', 'vascor', 'veltin', 'verard', 'vermox', 'versed', 'viadur', 'viagra', 'vienva', 'vimovo', 'vimpat', 'vira-a', 'visken', 'volnea', 'vosevi', 'vusion', 'wegovy', 'wixela', 'xadago', 'xatmep', 'xcopri', 'xeloda', 'xhance', 'xibrom', 'xigduo', 'xiidra', 'ximino', 'xpovio', 'xtandi', 'xulane', 'xylose', 'xyrosa', 'yasmin', 'zebeta', 'zejula', 'ziagen', 'zipsor', 'zirgan', 'ztalmy', 'ztlido', 'zydone', 'zytiga', 'azo', 'ssd', 'hc', 'lo', 'a/t/s', 'aceon', 'actiq', 'actos', 'addyi', 'akpro', 'aleve', 'allay', 'alora', 'aloxi', 'alrex', 'amrix', 'amvaz', 'anoro', 'arava', 'arymo', 'avage', 'avita', 'axert', 'ayuna', 'azopt', 'banan', 'baros', 'bayer', 'belix', 'beyaz', 'bucet', 'bumex', 'carac', 'cedax', 'creon', 'depen', 'dilor', 'diulo', 'dopar', 'doral', 'ecoza', 'emcyt', 'emend', 'emgel', 'emsam', 'endep', 'errin', 'esgic', 'exsel', 'fiasp', 'fml-s', 'folic', 'frova', 'giazo', 'halog', 'hicon', 'hivid', 'hyzyd', 'imdur', 'intal', 'iquix', 'jalyn', 'k-tab', 'ketek', 'kwell', 'labid', 'lasix', 'logen', 'loraz', 'lozol', 'luxiq', 'lygen', \"men's\", 'metra', 'midol', 'moban', 'mobic', 'myfed', 'naqua', 'nikki', 'nityr', 'norco', 'nylia', 'onmel', 'ontak', 'opcon', 'opill', 'oseni', 'ovide', 'povan', 'qdolo', 'qtern', 'quide', 'raxar', 'rayos', 'rebif', 'retet', 'revia', 'rufen', 'rybix', 'serax', 'shade', 'skyla', 'slynd', 'sosol', 'sprix', 'sular', 'sutab', 'syeda', 'tarka', 'temaz', 'ten-k', 'tenex', 'teril', 'tigan', 'tolak', 'tpoxx', 'trest', 'triad', 'tylox', 'vanos', 'vexol', 'vicks', 'videx', 'vioxx', 'virac', 'vtama', 'vuity', 'vyduo', 'wakix', 'wilpo', 'wymox', 'xanax', 'xtoro', 'xyrem', 'xyzal', 'yaela', 'yonsa', 'zagam', 'ziana', 'zilxi', 'zingo', 'zocor', 'zomig', 'zyban', 'zylet', 'alli', 'alyq', 'amen', 'azor', 'breo', 'cu-7', 'duac', 'ella', 'eryc', 'evex', 'exem', 'exna', 'flac', 'head', 'ismo', 'izba', 'k+10', 'kyra', 'lipo', 'mili', 'muse', 'ofev', 'onfi', 'orap', 'plan', 'rela', 'skin', 'tace', 'tora', 'urso', 'wera', 'ziac', 'zide', 'zinc', 'zmax', 'avc', 'bss', 'chg', 'dhc', 'fml', 'her', 'hms', 'inh', 'ivy', 'lta', 'mpi', 'nix', 'ocl', 'pbz', 'pce', 'pmb', 'qwo', 'r-p', 'rid', 'sps', 'tpn', 'tri', 'ulo', 'ms', 'vonjo']\n"
     ]
    }
   ],
   "source": [
    "print(LABEL.vocab.itos)"
   ]
  },
  {
   "cell_type": "code",
   "execution_count": null,
   "metadata": {
    "colab": {
     "background_save": true,
     "base_uri": "https://localhost:8080/"
    },
    "id": "6o-jYMflVquH",
    "outputId": "d36151fa-57de-4dc3-dcc7-8e28ebb37454"
   },
   "outputs": [
    {
     "name": "stdout",
     "output_type": "stream",
     "text": [
      "starting\n",
      "epoch accuracy: 0.6642100341008884\n",
      "test epoch accuracy: 0.6691210014415795\n",
      "epoch accuracy: 0.6748531608900445\n",
      "test epoch accuracy: 0.6756446050254558\n",
      "epoch accuracy: 0.6918146462745635\n",
      "test epoch accuracy: 0.6858086531267678\n",
      "epoch accuracy: 0.7253133518093999\n",
      "test epoch accuracy: 0.695315778909144\n",
      "epoch accuracy: 0.7630524286903663\n",
      "test epoch accuracy: 0.700233572380066\n",
      "epoch accuracy: 0.7908030246005406\n",
      "test epoch accuracy: 0.7020127369938505\n",
      "epoch accuracy: 0.8038640070254673\n",
      "test epoch accuracy: 0.702523676575245\n",
      "epoch accuracy: 0.8093931410453804\n",
      "test epoch accuracy: 0.7030802357621211\n",
      "epoch accuracy: 0.812271757849477\n",
      "test epoch accuracy: 0.7036459188700936\n",
      "epoch accuracy: 0.8141741084157343\n",
      "test epoch accuracy: 0.7039378843451762\n"
     ]
    }
   ],
   "source": [
    "epochs = 20\n",
    "model = Net(\n",
    "    TEXT.vocab.vectors,\n",
    "    nhead=5,  # the number of heads in the multiheadattention models\n",
    "    dim_feedforward=50,  # the dimension of the feedforward network model in nn.TransformerEncoder\n",
    "    num_layers=6,\n",
    "    dropout=0.1,\n",
    "    classifier_dropout=0.0\n",
    ").to(device)\n",
    "TAG_PAD_IDX = LABEL.vocab.stoi[LABEL.pad_token]\n",
    "\n",
    "criterion = nn.CrossEntropyLoss(ignore_index = TAG_PAD_IDX)\n",
    "#criterion = nn.CrossEntropyLoss()\n",
    "\n",
    "lr = 1e-4\n",
    "optimizer = torch.optim.Adam(\n",
    "    (p for p in model.parameters() if p.requires_grad), lr=lr)\n",
    "\n",
    "torch.manual_seed(0)\n",
    "\n",
    "print(\"starting\")\n",
    "for epoch in range(epochs):\n",
    "    # print(f\"{epoch=}\")\n",
    "    epoch_loss = 0\n",
    "    epoch_correct = 0\n",
    "    epoch_count = 0\n",
    "    for idx, batch in enumerate(iter(train_iter)):\n",
    "        predictions = model(batch.text.to(device))\n",
    "        predictions = predictions.view(-1, predictions.shape[-1])\n",
    "        labels = batch.label.to(device)\n",
    "        labels = labels.view(-1)\n",
    "        #print(\"label\",labels.shape)\n",
    "        #print(predictions.shape)\n",
    "        loss = criterion(predictions, labels)\n",
    "\n",
    "        correct = predictions.argmax(axis=1) == labels\n",
    "        acc = correct.sum().item() / correct.size(0)\n",
    "\n",
    "        epoch_correct += correct.sum().item()\n",
    "        epoch_count += correct.size(0)\n",
    "\n",
    "        epoch_loss += loss.item()\n",
    "\n",
    "        loss.backward()\n",
    "        torch.nn.utils.clip_grad_norm_(model.parameters(), 0.5)\n",
    "\n",
    "        optimizer.step()\n",
    "\n",
    "    with torch.no_grad():\n",
    "        test_epoch_loss = 0\n",
    "        test_epoch_correct = 0\n",
    "        test_epoch_count = 0\n",
    "\n",
    "        for idx, batch in enumerate(iter(test_iter)):\n",
    "              predictions = model(batch.text.to(device))\n",
    "              predictions = predictions.view(-1, predictions.shape[-1])\n",
    "              #tags = tags.view(-1)\n",
    "              labels = batch.label.to(device)\n",
    "              labels = labels.view(-1)\n",
    "              test_loss = criterion(predictions, labels)\n",
    "\n",
    "              correct = predictions.argmax(axis=1) == labels\n",
    "              acc = correct.sum().item() / correct.size(0)\n",
    "\n",
    "              test_epoch_correct += correct.sum().item()\n",
    "              test_epoch_count += correct.size(0)\n",
    "              test_epoch_loss += loss.item()\n",
    "\n",
    "    # print(f\"{epoch_loss=}\")\n",
    "    print(f\"epoch accuracy: {epoch_correct / epoch_count}\")\n",
    "    # print(f\"{test_epoch_loss=}\")\n",
    "    print(f\"test epoch accuracy: {test_epoch_correct / test_epoch_count}\")"
   ]
  }
 ],
 "metadata": {
  "colab": {
   "provenance": []
  },
  "kernelspec": {
   "display_name": "Python 3",
   "language": "python",
   "name": "python3"
  },
  "language_info": {
   "codemirror_mode": {
    "name": "ipython",
    "version": 3
   },
   "file_extension": ".py",
   "mimetype": "text/x-python",
   "name": "python",
   "nbconvert_exporter": "python",
   "pygments_lexer": "ipython3",
   "version": "3.8.8"
  }
 },
 "nbformat": 4,
 "nbformat_minor": 1
}
